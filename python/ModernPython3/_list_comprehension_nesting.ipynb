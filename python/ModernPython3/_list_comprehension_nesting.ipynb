{
 "cells": [
  {
   "cell_type": "markdown",
   "metadata": {},
   "source": [
    "# List Comprehension and Nesting"
   ]
  },
  {
   "cell_type": "markdown",
   "metadata": {},
   "source": [
    "## [var for var in iterable_object]"
   ]
  },
  {
   "cell_type": "code",
   "execution_count": null,
   "metadata": {},
   "outputs": [],
   "source": [
    "# operations\n",
    "nums = list(range(1,11))\n",
    "a = [x*2 for x in nums]\n",
    "a # you dont have to manually .append all the items to a"
   ]
  },
  {
   "cell_type": "code",
   "execution_count": null,
   "metadata": {},
   "outputs": [],
   "source": [
    "# upper case all letters in a list\n",
    "friends = ['ross','phoebe','rachel','chandler','monica','joey','nakedman']\n",
    "mod_friends = [friend.upper() for friend in friends]\n",
    "mod_friends"
   ]
  },
  {
   "cell_type": "code",
   "execution_count": null,
   "metadata": {},
   "outputs": [],
   "source": [
    "# upper case first letter in a list\n",
    "friends = ['ross','phoebe','rachel','chandler','monica','joey','nakedman']\n",
    "mod_friends = [friend[0].upper()+friend[1:] for friend in friends]\n",
    "mod_friends"
   ]
  },
  {
   "cell_type": "code",
   "execution_count": null,
   "metadata": {},
   "outputs": [],
   "source": [
    "# using range as an iterable object\n",
    "total = [a*2 for a in range(1,11)]\n",
    "total"
   ]
  },
  {
   "cell_type": "code",
   "execution_count": null,
   "metadata": {},
   "outputs": [],
   "source": [
    "# return booleans of a list\n",
    "l = [0,\"\",0,1,[],'yeet']\n",
    "b = [bool(a) for a in l]\n",
    "b"
   ]
  },
  {
   "cell_type": "code",
   "execution_count": null,
   "metadata": {},
   "outputs": [],
   "source": [
    "# return strings of a list\n",
    "l = list(range(1,10))\n",
    "b = [str(a) for a in l]\n",
    "b"
   ]
  },
  {
   "cell_type": "markdown",
   "metadata": {},
   "source": [
    "## conditions with list comprehension"
   ]
  },
  {
   "cell_type": "code",
   "execution_count": null,
   "metadata": {},
   "outputs": [],
   "source": [
    "# print evens and odds from 1 to 20\n",
    "numbers = list(range(1,21))\n",
    "evens = [evens for evens in numbers if evens % 2 == 0]\n",
    "print(evens)\n",
    "odds = [odds for odds in numbers if odds % 2 != 0]\n",
    "print(odds)"
   ]
  },
  {
   "cell_type": "code",
   "execution_count": null,
   "metadata": {},
   "outputs": [],
   "source": [
    "# output duplicate items from 2 lists\n",
    "list1 = [1,2,3,4,5,6]\n",
    "list2 = [3,4,5,6]\n",
    "list3 = [val for val in list1 if val in list2]\n",
    "list3"
   ]
  },
  {
   "cell_type": "code",
   "execution_count": null,
   "metadata": {},
   "outputs": [],
   "source": [
    "# reverse strings inside a list\n",
    "names = ['Elie','Tim','Matt']\n",
    "names2 = [n[::-1].lower() for n in names]\n",
    "print(names2)"
   ]
  },
  {
   "cell_type": "code",
   "execution_count": null,
   "metadata": {},
   "outputs": [],
   "source": [
    "# output consonants from a list\n",
    "consonants = [l for l in 'amaziaosdoasdasdasaisjdoqeqweqweiasjdoiasoidng' if l not in 'aeiou' ]\n",
    "print(consonants)\n"
   ]
  },
  {
   "cell_type": "markdown",
   "metadata": {},
   "source": [
    "# Nesting"
   ]
  },
  {
   "cell_type": "code",
   "execution_count": null,
   "metadata": {},
   "outputs": [],
   "source": [
    "# referring to items inside a nested list\n",
    "nest_list = [[1,2,3], [4,5,6], [7,8,9]]\n",
    "a = nest_list[0][-3] # 1\n",
    "b = nest_list[1][-2] # 5\n",
    "c = nest_list[2][-1] # 9\n",
    "print(a,b,c)"
   ]
  },
  {
   "cell_type": "code",
   "execution_count": null,
   "metadata": {},
   "outputs": [],
   "source": [
    "nest_list = [[1,2,3], [4,5,6], [7,8,9]]\n",
    "for n in nest_list: #[1,2,3][4,5,6][7,8,9]\n",
    "    for x in n: #[1,2,3,4,5,6,7,8,9] runs through the whole list\n",
    "        print(x)"
   ]
  },
  {
   "cell_type": "code",
   "execution_count": null,
   "metadata": {},
   "outputs": [],
   "source": [
    "coord_lists = [[10.423,9.132], [37.212, 14.092], [21.356, 32.572]]\n",
    "for loc in coord_lists:\n",
    "    for coord in loc:\n",
    "        print(coord)"
   ]
  },
  {
   "cell_type": "code",
   "execution_count": null,
   "metadata": {},
   "outputs": [],
   "source": [
    "# nested list comprehensions\n",
    "coord_lists = [[10.423,9.132], [37.212, 14.092], [21.356, 32.572]]\n",
    "[[print(num) for num in l] for l in nest_list]\n",
    "a = [[print(coords) for coords in loc if coords < 15] for loc in coord_lists]\n",
    "print(a)"
   ]
  },
  {
   "cell_type": "code",
   "execution_count": null,
   "metadata": {},
   "outputs": [],
   "source": [
    "# nested list comprehension\n",
    "board = [[num for num in range(1,4) for val in range(1,4)]] #[[1, 1, 1, 2, 2, 2, 3, 3, 3]]\n",
    "print(board)\n",
    "[['X' if num % 2 != 0 else 'O' for num in range(1,4)] for l in range(1,4)]\n",
    "#^^^^[['X', 'O', 'X'], ['X', 'O', 'X'], ['X', 'O', 'X']] ^^^^"
   ]
  },
  {
   "cell_type": "code",
   "execution_count": null,
   "metadata": {},
   "outputs": [],
   "source": [
    "# nested list comprehension\n",
    "a = [['*' for i in range(2)] for n in range(2)]\n",
    "print(a)\n",
    "b =[['*' for i in range(4)] for n in range(4)]\n",
    "print(b)"
   ]
  }
 ],
 "metadata": {
  "kernelspec": {
   "display_name": "Python 3",
   "language": "python",
   "name": "python3"
  },
  "language_info": {
   "codemirror_mode": {
    "name": "ipython",
    "version": 3
   },
   "file_extension": ".py",
   "mimetype": "text/x-python",
   "name": "python",
   "nbconvert_exporter": "python",
   "pygments_lexer": "ipython3",
   "version": "3.8.3"
  }
 },
 "nbformat": 4,
 "nbformat_minor": 4
}

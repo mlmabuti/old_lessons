{
 "cells": [
  {
   "cell_type": "markdown",
   "metadata": {},
   "source": [
    "# Functions"
   ]
  },
  {
   "cell_type": "code",
   "execution_count": null,
   "metadata": {},
   "outputs": [],
   "source": [
    "import numpy\n",
    "from numpy import random\n",
    "from random import randint"
   ]
  },
  {
   "cell_type": "code",
   "execution_count": null,
   "metadata": {},
   "outputs": [],
   "source": [
    "def coin_toss():\n",
    "    toss = randint(0,1)\n",
    "    heads = 1\n",
    "    tails = 0\n",
    "    if toss is heads:\n",
    "        return 'heads'\n",
    "    return 'tails'\n",
    "\n",
    "coin_toss()"
   ]
  },
  {
   "cell_type": "markdown",
   "metadata": {},
   "source": [
    "## using global and nonlocal (ive never used nonlocal yet)"
   ]
  },
  {
   "cell_type": "code",
   "execution_count": null,
   "metadata": {},
   "outputs": [],
   "source": [
    "a = 0\n",
    "b = 1\n",
    "def fibonacci(term):\n",
    "    global a,b\n",
    "    for x in range(term):\n",
    "        total = a+b\n",
    "        a = b\n",
    "        b = total\n",
    "        print(a, end=' ')\n",
    "fibonacci(12)"
   ]
  },
  {
   "cell_type": "code",
   "execution_count": null,
   "metadata": {},
   "outputs": [],
   "source": [
    "def single_letter_count(string,letter):\n",
    "    return string.lower().count(letter.lower())\n",
    "print(single_letter_count('aaaaaaadasdasdawdafag','d'))\n",
    "def multiple_letter_count(string):\n",
    "    return {l: string.count(l) for l in string}\n",
    "print(multiple_letter_count('aaabbbbbccdddddd'))"
   ]
  },
  {
   "cell_type": "code",
   "execution_count": null,
   "metadata": {},
   "outputs": [],
   "source": [
    "def square_root(number):\n",
    "    i = 0\n",
    "    while i**2 < abs(number):\n",
    "        i += 1\n",
    "    if i**2 == abs(number):\n",
    "        print(i,'is the square root of %g'%number)\n",
    "    else:\n",
    "        print (f'{number} is not a perfect square.')\n",
    "    \n",
    "square_root(100)"
   ]
  },
  {
   "cell_type": "code",
   "execution_count": null,
   "metadata": {},
   "outputs": [],
   "source": [
    "def cube_root(number):\n",
    "    i = 0\n",
    "    while i**3 < number:\n",
    "        i+= 1\n",
    "    if i**3 != number:\n",
    "        print('%g is not a perfect cube'%number)\n",
    "    else:\n",
    "        print(i)\n",
    "        \n",
    "cube_root(125)\n",
    "        "
   ]
  },
  {
   "cell_type": "code",
   "execution_count": null,
   "metadata": {},
   "outputs": [],
   "source": [
    "def generate_evens(n):\n",
    "    return [even for even in range(1,n+2) if even % 2 == 0]\n",
    "\n",
    "generate_evens(10)\n",
    "\n",
    "def generate_odds(n):\n",
    "    return [odd for odd in range(1,n+1) if odd % 2 != 0]\n",
    "\n",
    "generate_odds(12)\n",
    "\n",
    "# just a tiny lil dictionary comprehenstion practice\n",
    "a = generate_evens(22)\n",
    "b = generate_odds(22)\n",
    "c = {a[item]:b[item] for item in range(len(a))}"
   ]
  },
  {
   "cell_type": "markdown",
   "metadata": {},
   "source": [
    "## create two lists to store true and false values from a single list"
   ]
  },
  {
   "cell_type": "code",
   "execution_count": 10,
   "metadata": {},
   "outputs": [],
   "source": [
    "l = [1,2,3,4,0,123,None, False,'','asdadwa']\n",
    "def fn(v):\n",
    "    # identify if true or false\n",
    "    if v:\n",
    "        return True\n",
    "    else:\n",
    "        return False\n",
    "\n",
    "def partition(l):\n",
    "    # puts true values in a list and false values in another  list\n",
    "    trues,falses = [v for v in l if fn(v)], [x for x in l if not fn(x)]\n",
    "    \n",
    "    return [trues,falses]\n",
    "partition(l)\n",
    "\n",
    "# other peeps code\n",
    "def partition(lst, fn):\n",
    "    return [[val for val in lst if fn(val)], [val for val in lst if not fn(val)]]\n",
    "def partition(l, callback):\n",
    "    return [[l.pop(l.index(i)) for i in l if callback(i)],l]"
   ]
  },
  {
   "cell_type": "code",
   "execution_count": null,
   "metadata": {
    "scrolled": true
   },
   "outputs": [],
   "source": [
    "# from Mike Cohen\n",
    "from IPython.display import Math,display\n",
    "def powers(x,y):\n",
    "    display(Math('%g^{%g} = %g'%(x,y,x**y)))\n",
    "    \n",
    "def division(x,y):\n",
    "    display(Math('\\\\frac {%g}{%g} = %g'%(x,y,x/y)))\n",
    "    \n",
    "def MainFunction():\n",
    "    x = float(input('Enter x: '))\n",
    "    y = float(input('Enter y: '))\n",
    "    \n",
    "    display(Math('\\\\text{Press \"1\" to compute }%g^{%g}\\\\text{ or \"2\" to compute } \\\\frac{%g}{%g}'%(x,y,x,y)))\n",
    "    \n",
    "    switch = int(input(''))\n",
    "    if switch == 2:\n",
    "        division(x,y)\n",
    "    elif switch == 1:\n",
    "        powers(x,y)\n",
    "    else:\n",
    "        print('invalid selection!')\n",
    "MainFunction()"
   ]
  },
  {
   "cell_type": "markdown",
   "metadata": {},
   "source": [
    "# Part 2"
   ]
  },
  {
   "cell_type": "markdown",
   "metadata": {},
   "source": [
    "## *args (creates a tuple)"
   ]
  },
  {
   "cell_type": "code",
   "execution_count": 14,
   "metadata": {},
   "outputs": [
    {
     "data": {
      "text/plain": [
       "10"
      ]
     },
     "execution_count": 14,
     "metadata": {},
     "output_type": "execute_result"
    }
   ],
   "source": [
    "def sums(*nums): #does not to be called args, * will make anything you input a tuple\n",
    "    total = 0\n",
    "    for num in nums:\n",
    "        total += num\n",
    "    return total\n",
    "sums(1,2,3,4)"
   ]
  },
  {
   "cell_type": "markdown",
   "metadata": {},
   "source": [
    "## **kwargs (keyword args, stores keyword arguments as a dictionary"
   ]
  },
  {
   "cell_type": "code",
   "execution_count": 38,
   "metadata": {},
   "outputs": [
    {
     "name": "stdout",
     "output_type": "stream",
     "text": [
      "Bennie's fav color is gray\n",
      "Ryu's fav color is black\n",
      "IDK's fav color is teal\n",
      "Michael's fav color is neon\n",
      "Colt's fav color is purple\n"
     ]
    }
   ],
   "source": [
    "def fav_colors(**kwargs):\n",
    "    for person,color in kwargs.items():\n",
    "        print(f\"{person}'s fav color is {color}\")\n",
    "        \n",
    "fav_colors(Bennie='gray',Ryu='black',IDK='teal') \n",
    "fav_colors(Michael='neon',Colt='purple')"
   ]
  },
  {
   "cell_type": "code",
   "execution_count": 55,
   "metadata": {},
   "outputs": [
    {
     "name": "stdout",
     "output_type": "stream",
     "text": [
      "Ryu is awesome!\n",
      "True lol\n"
     ]
    }
   ],
   "source": [
    "def greetings(**kwargs):\n",
    "    if 'Ryu' in kwargs and kwargs['Ryu'] == 'awesome':\n",
    "        return 'Ryu is awesome!'\n",
    "    if 'Cheems' in kwargs and kwargs['Cheems'] == 'sucks':\n",
    "        return \"True lol\"\n",
    "    return 'I am not programmed to respond to that.'\n",
    "print(greetings(Ryu='awesome'))\n",
    "print(greetings(Cheems='sucks'))"
   ]
  },
  {
   "cell_type": "code",
   "execution_count": 56,
   "metadata": {},
   "outputs": [],
   "source": [
    "# combine two words, prefix and suffix\n",
    "def combine_words(word,**kwargs):\n",
    "    if kwargs:\n",
    "        if \"prefix\" in kwargs:\n",
    "            return kwargs['prefix'] + word\n",
    "        elif \"suffix\"in kwargs:\n",
    "            return word + kwargs['suffix']\n",
    "    return word"
   ]
  },
  {
   "cell_type": "markdown",
   "metadata": {},
   "source": [
    "## Paremeter ordering\n",
    "### 1. parameters\n",
    "### 2. *args\n",
    "### 3. default parameters\n",
    "### 4. **kwargs"
   ]
  },
  {
   "cell_type": "code",
   "execution_count": 65,
   "metadata": {},
   "outputs": [
    {
     "data": {
      "text/plain": [
       "[1, 2, (3, 4, 5), 10, {'k': 'lol'}]"
      ]
     },
     "execution_count": 65,
     "metadata": {},
     "output_type": "execute_result"
    }
   ],
   "source": [
    "def arrangement(a,b,*args,d=10,**kwargs):\n",
    "    return [a,b,args,d,kwargs]\n",
    "arrangement(1,2,3,4,5,k='lol')"
   ]
  },
  {
   "cell_type": "markdown",
   "metadata": {},
   "source": [
    "## Unpacking tuples, use * and **, to take a collection and then return the values individually"
   ]
  },
  {
   "cell_type": "code",
   "execution_count": 7,
   "metadata": {},
   "outputs": [
    {
     "data": {
      "text/plain": [
       "21"
      ]
     },
     "execution_count": 7,
     "metadata": {},
     "output_type": "execute_result"
    }
   ],
   "source": [
    "# single * for unpacking lists and tuples to create seperate arguments per value\n",
    "def sum_values(*args):\n",
    "    total = 0\n",
    "    for i in args:\n",
    "        total += i\n",
    "    return total\n",
    "num_list = list(range(1,7))\n",
    "sum_values(*num_list) # notice the asterisk"
   ]
  },
  {
   "cell_type": "code",
   "execution_count": 35,
   "metadata": {},
   "outputs": [
    {
     "name": "stdout",
     "output_type": "stream",
     "text": [
      "blah blah blah yo blah blah sup blah\n",
      "None\n",
      "30\n"
     ]
    }
   ],
   "source": [
    "# double ** to unpack dictionaries\n",
    "def random_sentence(first,second):\n",
    "    print(f'blah blah blah {first} blah blah {second} blah')\n",
    "\n",
    "words = {'first':'yo','second':'sup'}\n",
    "print(random_sentence(**words))\n",
    "\n",
    "def add_a_b_c(a,b,c):\n",
    "    return a+b+c\n",
    "nums = dict(a=5,b=10,c=15)\n",
    "print(add_a_b_c(**nums))"
   ]
  },
  {
   "cell_type": "code",
   "execution_count": null,
   "metadata": {},
   "outputs": [],
   "source": []
  }
 ],
 "metadata": {
  "kernelspec": {
   "display_name": "Python 3",
   "language": "python",
   "name": "python3"
  },
  "language_info": {
   "codemirror_mode": {
    "name": "ipython",
    "version": 3
   },
   "file_extension": ".py",
   "mimetype": "text/x-python",
   "name": "python",
   "nbconvert_exporter": "python",
   "pygments_lexer": "ipython3",
   "version": "3.8.3"
  }
 },
 "nbformat": 4,
 "nbformat_minor": 4
}

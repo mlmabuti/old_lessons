{
 "cells": [
  {
   "cell_type": "markdown",
   "metadata": {},
   "source": [
    "# Lists, methods, and slicing"
   ]
  },
  {
   "cell_type": "markdown",
   "metadata": {},
   "source": [
    "###  .append()\n",
    "### .insert()\n",
    "### .extend(i)\n",
    "### .index()\n",
    "### .remove()\n",
    "### .pop()\n",
    "### .clear()\n",
    "### .copy()\n",
    "### .count()\n",
    "### .reverse()\n",
    "### .sort()"
   ]
  },
  {
   "cell_type": "code",
   "execution_count": null,
   "metadata": {},
   "outputs": [],
   "source": [
    "# here is a list\n",
    "list_sample = ['g','a','d','d','a','m']\n",
    "list_sample"
   ]
  },
  {
   "cell_type": "code",
   "execution_count": null,
   "metadata": {},
   "outputs": [],
   "source": [
    "# you can convert a range into a list\n",
    "list_in_range_sample = list(range(1,10))\n",
    "list_in_range_sample"
   ]
  },
  {
   "cell_type": "code",
   "execution_count": null,
   "metadata": {},
   "outputs": [],
   "source": [
    "# pointing on an item inside a list\n",
    "colours = ['blue','red','green','yellow']\n",
    "#            0       1       2       3\n",
    "#           -4      -3      -2      -1\n",
    "colours[-1]"
   ]
  },
  {
   "cell_type": "markdown",
   "metadata": {},
   "source": [
    "## Using in"
   ]
  },
  {
   "cell_type": "code",
   "execution_count": null,
   "metadata": {},
   "outputs": [],
   "source": [
    "# if item x in inside y, checking if something is inside a list. Case Sensitive\n",
    "colours = ['grey','black','yellow','white']\n",
    "if 'grey' in colours:\n",
    "    print('you have good taste in colors')"
   ]
  },
  {
   "cell_type": "markdown",
   "metadata": {},
   "source": [
    "## Iterating over lists"
   ]
  },
  {
   "cell_type": "code",
   "execution_count": null,
   "metadata": {},
   "outputs": [],
   "source": [
    "l = list(range(3))\n",
    "y = ['teal', 'black','sage','grey']\n",
    "# for loops\n",
    "for i in l:\n",
    "    print(i)\n",
    "for x in y:\n",
    "    print(x)\n",
    "# while loops\n",
    "c = 0\n",
    "while c < len(l):\n",
    "    print(l[c])\n",
    "    c += 1\n",
    "c = 0\n",
    "while c < len(y):\n",
    "    print(y[c])\n",
    "    c += 1"
   ]
  },
  {
   "cell_type": "markdown",
   "metadata": {},
   "source": [
    "## Index counter"
   ]
  },
  {
   "cell_type": "code",
   "execution_count": null,
   "metadata": {},
   "outputs": [],
   "source": [
    "# find an item and return the index of that item\n",
    "colours = ['teal', 'black','sage','grey']\n",
    "index_counter = 0\n",
    "c = input('color to find inside a list: ')\n",
    "for i in colours:\n",
    "    if i == c:\n",
    "        print(f'{c} is inside the list colours!')\n",
    "        print(f'the index is {index_counter}')\n",
    "        break\n",
    "    index_counter += 1"
   ]
  },
  {
   "cell_type": "code",
   "execution_count": null,
   "metadata": {},
   "outputs": [],
   "source": [
    "colours = ['grey','yellow','teal','black','white','green']\n",
    "index_counter = 0\n",
    "while index_counter < len(colours):\n",
    "    print(f\"index: {index_counter}; colour: {colours[index_counter]}\")\n",
    "    index_counter += 1"
   ]
  },
  {
   "cell_type": "markdown",
   "metadata": {},
   "source": [
    "## Adding or combining items into one"
   ]
  },
  {
   "cell_type": "code",
   "execution_count": null,
   "metadata": {},
   "outputs": [],
   "source": [
    "# add all numbers/strings inside a list\n",
    "x = 0\n",
    "l = list(range(11))\n",
    "for i in l:\n",
    "    x += i\n",
    "print(x)"
   ]
  },
  {
   "cell_type": "code",
   "execution_count": null,
   "metadata": {},
   "outputs": [],
   "source": [
    "strings = [\"super\", \"cali\", \"fragil\", \"istic\", \"expi\", \"ali\", \"docious\"]\n",
    "result = ''\n",
    "for word in strings:\n",
    "    result += word[0].upper() + word[1:]   \n",
    "print(result)"
   ]
  },
  {
   "cell_type": "markdown",
   "metadata": {},
   "source": [
    "## to add items : .append(index,item) and .extend([items])"
   ]
  },
  {
   "cell_type": "code",
   "execution_count": null,
   "metadata": {},
   "outputs": [],
   "source": [
    "#you can nest a list inside a list x.append([11,12,13]) \n",
    "x = [1,2,3,4,5,]\n",
    "x.append(6)\n",
    "print('append ', x)\n",
    "x.extend([7,8,9,10])\n",
    "print('extend ', x)"
   ]
  },
  {
   "cell_type": "markdown",
   "metadata": {},
   "source": [
    "## to insert items : .insert(index, item)"
   ]
  },
  {
   "cell_type": "code",
   "execution_count": 10,
   "metadata": {},
   "outputs": [
    {
     "name": "stdout",
     "output_type": "stream",
     "text": [
      "[2.5, 1, 2, 3, 4]\n",
      "[2.5, 1, 2, 3, 4, 5]\n"
     ]
    }
   ],
   "source": [
    "x = [1,2,3,4]\n",
    "    #0,1,2,3\n",
    "   #-4.-3.-2.-1\n",
    "x.insert(-4,2.5)\n",
    "print(x)\n",
    "x.insert(len(x),5) # use len(x) if you do not know how many indices are in a list.\n",
    "print(x)"
   ]
  },
  {
   "cell_type": "markdown",
   "metadata": {},
   "source": [
    "## to clear items :  .clear(list_name)"
   ]
  },
  {
   "cell_type": "code",
   "execution_count": 12,
   "metadata": {},
   "outputs": [
    {
     "name": "stdout",
     "output_type": "stream",
     "text": [
      "[]\n",
      "None\n"
     ]
    }
   ],
   "source": [
    "print(x)\n",
    "print(x.clear()) #None type"
   ]
  },
  {
   "cell_type": "markdown",
   "metadata": {},
   "source": [
    "## to return and remove items : .pop(index) and .remove(item)"
   ]
  },
  {
   "cell_type": "code",
   "execution_count": 17,
   "metadata": {},
   "outputs": [
    {
     "name": "stdout",
     "output_type": "stream",
     "text": [
      "green\n",
      "white\n",
      "['grey', 'yellow', 'teal', 'black', 'white', 'green']\n",
      "['grey', 'teal', 'black', 'white', 'green']\n"
     ]
    }
   ],
   "source": [
    "# .pop(index) = default is -1\n",
    "colours = ['grey','yellow','teal','black','white','green']\n",
    "popped_item = colours.pop()\n",
    "print(popped_item)\n",
    "popped_item = colours.pop(4)\n",
    "print(popped_item)\n",
    "# .remove(item)\n",
    "colours = ['grey','yellow','teal','black','white','green']\n",
    "print(colours)\n",
    "colours.remove('yellow')\n",
    "print(colours)"
   ]
  },
  {
   "cell_type": "markdown",
   "metadata": {},
   "source": [
    "## to find the index of an item : .index(item,start,end)"
   ]
  },
  {
   "cell_type": "code",
   "execution_count": 22,
   "metadata": {},
   "outputs": [
    {
     "name": "stdout",
     "output_type": "stream",
     "text": [
      "3\n"
     ]
    }
   ],
   "source": [
    "colours = ['grey','yellow','teal','black','white','green']\n",
    "returned = colours.index('black')\n",
    "print(returned)"
   ]
  },
  {
   "cell_type": "markdown",
   "metadata": {},
   "source": [
    "## to count number of recurring items : .count(item)"
   ]
  },
  {
   "cell_type": "code",
   "execution_count": 23,
   "metadata": {},
   "outputs": [
    {
     "name": "stdout",
     "output_type": "stream",
     "text": [
      "2\n"
     ]
    }
   ],
   "source": [
    "colours = ['grey','yellow','teal','black','white','green','white']\n",
    "returned = colours.count('white')\n",
    "print(returned)"
   ]
  },
  {
   "cell_type": "markdown",
   "metadata": {},
   "source": [
    "## to reverse items in a list : .reverse()"
   ]
  },
  {
   "cell_type": "code",
   "execution_count": 25,
   "metadata": {},
   "outputs": [
    {
     "name": "stdout",
     "output_type": "stream",
     "text": [
      "['grey', 'yellow', 'teal', 'black', 'white', 'green', 'white']\n",
      "['white', 'green', 'white', 'black', 'teal', 'yellow', 'grey']\n"
     ]
    }
   ],
   "source": [
    "colours = ['grey','yellow','teal','black','white','green','white']\n",
    "print(colours)\n",
    "colours.reverse()\n",
    "print(colours)"
   ]
  },
  {
   "cell_type": "markdown",
   "metadata": {},
   "source": [
    "## to sort in alphabetical and alphanumerical order : .sort()"
   ]
  },
  {
   "cell_type": "code",
   "execution_count": 37,
   "metadata": {},
   "outputs": [
    {
     "name": "stdout",
     "output_type": "stream",
     "text": [
      "['grey', 'yellow', 'teal', 'black', 'white', 'green']\n",
      "sorted ['black', 'green', 'grey', 'teal', 'white', 'yellow']\n",
      "[2, 7, 4, 24, 5, 8, 1]\n",
      "sorted [1, 2, 4, 5, 7, 8, 24]\n"
     ]
    }
   ],
   "source": [
    "colours = ['grey','yellow','teal','black','white','green']\n",
    "print(colours)\n",
    "colours.sort()\n",
    "print('sorted', colours)\n",
    "numbers = [2,7,4,24,5,8,1]\n",
    "print(numbers)\n",
    "numbers.sort()\n",
    "print('sorted',numbers)"
   ]
  },
  {
   "cell_type": "markdown",
   "metadata": {},
   "source": [
    "## to join items using a string : \"string\".join(list)\n"
   ]
  },
  {
   "cell_type": "code",
   "execution_count": 38,
   "metadata": {},
   "outputs": [
    {
     "name": "stdout",
     "output_type": "stream",
     "text": [
      "black-green-grey-teal-white-yellow\n"
     ]
    }
   ],
   "source": [
    "colours = ['black', 'green', 'grey', 'teal', 'white', 'yellow']\n",
    "x = '-'.join(colours) #black-green-grey-teal-white-yellow\n",
    "print(x) "
   ]
  },
  {
   "cell_type": "markdown",
   "metadata": {},
   "source": [
    "# list slicing : item_list[start:end:step]"
   ]
  },
  {
   "cell_type": "code",
   "execution_count": 1,
   "metadata": {},
   "outputs": [],
   "source": [
    "friends = ['Ross', 'Chandler', 'Monica', 'Joey', 'Phoebe',' Rachel']\n",
    "string = \"Get another spoon and try the different flavours of icecream!\""
   ]
  },
  {
   "cell_type": "code",
   "execution_count": 3,
   "metadata": {},
   "outputs": [],
   "source": [
    "# from end #INCLUSIVE\n",
    "a = friends[3:] #index 3 to END\n",
    "b = friends[-1:] #the last element\n",
    "c = friends[0:] #Copy of the list\n",
    "d = friends[2:] #from index 2 to END\n",
    "f = friends[-3:] # from -3 to the last element"
   ]
  },
  {
   "cell_type": "code",
   "execution_count": 4,
   "metadata": {},
   "outputs": [],
   "source": [
    "# from end #EXCLUSIVE\n",
    "g = friends[:2]\n",
    "h = friends[:-2] \n",
    "i = friends[1:-1] #REMOVES START AND END"
   ]
  },
  {
   "cell_type": "code",
   "execution_count": 5,
   "metadata": {},
   "outputs": [],
   "source": [
    "# steps\n",
    "j = friends[::2] #2 steps at a time/ skips one number each\n",
    "k = friends[::-2] #2 steps backwards\n",
    "l = friends[:1:-1] #steps back to index 1 #EXCLUSIVE"
   ]
  },
  {
   "cell_type": "code",
   "execution_count": 6,
   "metadata": {},
   "outputs": [],
   "source": [
    "# reverse a list/string\n",
    "m = friends[::-1] # list\n",
    "n = string[::-1] # string\n",
    "o = friends[1][::-1] # item in a list"
   ]
  },
  {
   "cell_type": "code",
   "execution_count": 7,
   "metadata": {},
   "outputs": [],
   "source": [
    "# swapping values\n",
    "friends[1], friends[-1] = friends[-1], friends[1] # When to swap? for shuffling, custom sorting, algorithms"
   ]
  },
  {
   "cell_type": "markdown",
   "metadata": {},
   "source": [
    "## to upper case letters inside a list"
   ]
  },
  {
   "cell_type": "code",
   "execution_count": 11,
   "metadata": {},
   "outputs": [
    {
     "data": {
      "text/plain": [
       "['Joey', 'Ross', 'Chandler', 'Richard', 'Monica', 'Antman', 'Phoebe']"
      ]
     },
     "execution_count": 11,
     "metadata": {},
     "output_type": "execute_result"
    }
   ],
   "source": [
    "name = 'gameboii'\n",
    "[char.upper() for char in name]\n",
    "friends = ['joey','ross','chandler','richard','monica','antman','phoebe']\n",
    "[friend[0].upper()+friend[1:] for friend in friends]"
   ]
  }
 ],
 "metadata": {
  "kernelspec": {
   "display_name": "Python 3",
   "language": "python",
   "name": "python3"
  },
  "language_info": {
   "codemirror_mode": {
    "name": "ipython",
    "version": 3
   },
   "file_extension": ".py",
   "mimetype": "text/x-python",
   "name": "python",
   "nbconvert_exporter": "python",
   "pygments_lexer": "ipython3",
   "version": "3.8.3"
  }
 },
 "nbformat": 4,
 "nbformat_minor": 4
}

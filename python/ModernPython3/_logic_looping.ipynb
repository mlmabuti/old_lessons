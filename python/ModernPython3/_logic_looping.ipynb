{
 "cells": [
  {
   "cell_type": "markdown",
   "metadata": {},
   "source": [
    "# Logic and Looping"
   ]
  },
  {
   "cell_type": "markdown",
   "metadata": {},
   "source": [
    "## Logic"
   ]
  },
  {
   "cell_type": "code",
   "execution_count": null,
   "metadata": {},
   "outputs": [],
   "source": [
    "#Just use if-else statements and comparison\n",
    "color,number = ['blue','red','green'],[1,2,3,4,5]\n",
    "if 'blue' in color:\n",
    "    print('blue is inside the list color')\n",
    "else:\n",
    "    print('eh')"
   ]
  },
  {
   "cell_type": "markdown",
   "metadata": {},
   "source": [
    "## Truthiness"
   ]
  },
  {
   "cell_type": "code",
   "execution_count": null,
   "metadata": {},
   "outputs": [],
   "source": [
    "something = 'any value that is not None, 0, \"blank space\", anything that exists'\n",
    "nothing = 0\n",
    "if something:\n",
    "    print(bool(something))\n",
    "if nothing == False:\n",
    "    print(bool(nothing))"
   ]
  },
  {
   "cell_type": "markdown",
   "metadata": {},
   "source": [
    "##  Looping"
   ]
  },
  {
   "cell_type": "code",
   "execution_count": null,
   "metadata": {},
   "outputs": [],
   "source": [
    "# to add all odd numbers from a range of 10 to 20\n",
    "x = 0\n",
    "for i in range (10,21):\n",
    "    if i % 2 == 0:\n",
    "        continue\n",
    "    else:\n",
    "        x += i\n",
    "print(x)"
   ]
  },
  {
   "cell_type": "code",
   "execution_count": null,
   "metadata": {},
   "outputs": [],
   "source": [
    "# a better solution to add odd numbers from 10 to 20\n",
    "x = 0\n",
    "for i in range(11,21,2): # will skip 2 numbers each step, ergo skipping even numbers\n",
    "    x += i\n",
    "print(x)"
   ]
  },
  {
   "cell_type": "code",
   "execution_count": null,
   "metadata": {},
   "outputs": [],
   "source": [
    "# repeat a word a number of times\n",
    "word = input('what would you like me to say? ')\n",
    "num_times = int(input('How many number of times should i repeat it? '))\n",
    "for num in range(num_times):\n",
    "    print(word)"
   ]
  },
  {
   "cell_type": "code",
   "execution_count": null,
   "metadata": {},
   "outputs": [],
   "source": [
    "# print numbers 4 and 13 and say unlucky, print evens and odds in range 1 to 15"
   ]
  },
  {
   "cell_type": "code",
   "execution_count": 4,
   "metadata": {},
   "outputs": [
    {
     "output_type": "stream",
     "name": "stdout",
     "text": [
      "1 is odd\n2 is even\n3 is odd\n4 is unlucky\n5 is odd\n6 is even\n7 is odd\n8 is even\n9 is odd\n10 is even\n11 is odd\n12 is even\n13 is unlucky\n14 is even\n15 is odd\n"
     ]
    }
   ],
   "source": [
    "for i in range(1,16):\n",
    "    if i == 4 or i == 13:\n",
    "        print(f'{i} is unlucky')\n",
    "    elif i % 2 == 0:\n",
    "        print(f'{i} is even')\n",
    "    else:\n",
    "        print(f'{i} is odd')"
   ]
  },
  {
   "cell_type": "code",
   "execution_count": 3,
   "metadata": {},
   "outputs": [
    {
     "output_type": "stream",
     "name": "stdout",
     "text": [
      "         *\n        ***\n       *****\n      *******\n     *********\n    ***********\n   *************\n  ***************\n *****************\n*******************\n"
     ]
    }
   ],
   "source": [
    "#print a pyramid\n",
    "for i in range(10):\n",
    "    for j in range(10-i-1):\n",
    "        print(' ',end='')\n",
    "    for x in range(2*i+1):\n",
    "        print('*',end='')\n",
    "    print()"
   ]
  },
  {
   "cell_type": "code",
   "execution_count": 2,
   "metadata": {},
   "outputs": [
    {
     "output_type": "stream",
     "name": "stdout",
     "text": [
      "\n0\n01\n012\n0123\n01234\n012345\n0123456\n01234567\n012345678\n"
     ]
    }
   ],
   "source": [
    "for i in range(10):\n",
    "    for j in range(i):\n",
    "        print(j,end='')\n",
    "    print()"
   ]
  },
  {
   "cell_type": "code",
   "execution_count": 5,
   "metadata": {},
   "outputs": [
    {
     "output_type": "stream",
     "name": "stdout",
     "text": [
      "    0\n   012\n  01234\n 0123456\n"
     ]
    }
   ],
   "source": [
    "for i in range(4):\n",
    "    for space in range(4-i):\n",
    "        print(' ',end='')\n",
    "    for num in range(2*i+1):\n",
    "        print(num,end='')\n",
    "    print()\n",
    "    "
   ]
  },
  {
   "cell_type": "code",
   "execution_count": 6,
   "metadata": {},
   "outputs": [
    {
     "output_type": "error",
     "ename": "SyntaxError",
     "evalue": "invalid syntax (<ipython-input-6-2d943d15e2a4>, line 1)",
     "traceback": [
      "\u001b[1;36m  File \u001b[1;32m\"<ipython-input-6-2d943d15e2a4>\"\u001b[1;36m, line \u001b[1;32m1\u001b[0m\n\u001b[1;33m    2   4   6   8\u001b[0m\n\u001b[1;37m        ^\u001b[0m\n\u001b[1;31mSyntaxError\u001b[0m\u001b[1;31m:\u001b[0m invalid syntax\n"
     ]
    }
   ],
   "source": [
    "# 2   4   6   8\n",
    "# 10  12  14  16\n",
    "# 18  20  22  24\n",
    "# 26  28  30  32"
   ]
  },
  {
   "cell_type": "code",
   "execution_count": 15,
   "metadata": {},
   "outputs": [
    {
     "output_type": "stream",
     "name": "stdout",
     "text": [
      "2\t4\t6\t8\t\n\n10\t12\t14\t16\t\n\n18\t20\t22\t24\t\n\n26\t28\t30\t32\t\n\n"
     ]
    }
   ],
   "source": [
    "c=0\n",
    "for i in range(4):\n",
    "    for j in range(4):\n",
    "        c += 2\n",
    "        print(c, end=\"\\t\")\n",
    "    print(\"\\n\")"
   ]
  },
  {
   "cell_type": "code",
   "execution_count": null,
   "metadata": {},
   "outputs": [],
   "source": []
  }
 ],
 "metadata": {
  "kernelspec": {
   "name": "python3",
   "display_name": "Python 3.8.5 64-bit",
   "metadata": {
    "interpreter": {
     "hash": "4fdd258b76f1ab73cc974bf5f3eafc0415c271d29cb0b30a0db746df813e6c65"
    }
   }
  },
  "language_info": {
   "codemirror_mode": {
    "name": "ipython",
    "version": 3
   },
   "file_extension": ".py",
   "mimetype": "text/x-python",
   "name": "python",
   "nbconvert_exporter": "python",
   "pygments_lexer": "ipython3",
   "version": "3.8.5-final"
  }
 },
 "nbformat": 4,
 "nbformat_minor": 4
}
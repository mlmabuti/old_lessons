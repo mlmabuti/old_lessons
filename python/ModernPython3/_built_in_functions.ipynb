{
 "cells": [
  {
   "cell_type": "markdown",
   "metadata": {},
   "source": [
    "# Lambdas and Built-In functions\n",
    "### lambda, map, filter, all, any"
   ]
  },
  {
   "cell_type": "markdown",
   "metadata": {},
   "source": [
    "## Lambdas syntax = lambda (parameter): (single expression)"
   ]
  },
  {
   "cell_type": "code",
   "execution_count": null,
   "metadata": {},
   "outputs": [],
   "source": [
    "multiply = lambda a,b : a*b\n",
    "multiply(5,5)\n",
    "\n",
    "def square(num):\n",
    "    return num*num\n",
    "\n",
    "square_with_lambda = lambda num:num *num #sometimes called an anonymous function\n",
    "\n",
    "print('without lambda: ',square(5))\n",
    "print('with lambda: ',square_with_lambda(5))"
   ]
  },
  {
   "cell_type": "markdown",
   "metadata": {},
   "source": [
    "## lambdas have no name"
   ]
  },
  {
   "cell_type": "code",
   "execution_count": null,
   "metadata": {},
   "outputs": [],
   "source": [
    "print(square.__name__) # name of the function\n",
    "print(square_with_lambda.__name__) # just lambda"
   ]
  },
  {
   "cell_type": "markdown",
   "metadata": {},
   "source": [
    "## map, a standard function that accepts 2 args; a function and an iterable"
   ]
  },
  {
   "cell_type": "code",
   "execution_count": null,
   "metadata": {},
   "outputs": [],
   "source": [
    "# map will allow you to apply a lambda expression to values in an iterable object\n",
    "nums = list(range(1,11))\n",
    "doubles = map(lambda n: n*2,nums)\n",
    "# using list comprehension to create the list\n",
    "[n for n in doubles] \n",
    "\n",
    "# using list() to create the list\n",
    "triples = list(map(lambda n: n*3,nums)) \n",
    "triples"
   ]
  },
  {
   "cell_type": "code",
   "execution_count": null,
   "metadata": {},
   "outputs": [],
   "source": [
    "names = ['growganoth','growch','seth','hamumu','patric']\n",
    "upper_case = list(map(lambda up: up.upper(), names))\n",
    "upper_case"
   ]
  },
  {
   "cell_type": "code",
   "execution_count": null,
   "metadata": {},
   "outputs": [],
   "source": [
    "names = [\n",
    "    {'first': 'Seth', 'last':'Robinson'},\n",
    "    {'first': 'Mike', 'last':'Hommel'},\n",
    "    {'first': 'Dragon','last':'Hand'}\n",
    "]\n",
    "first_names = list(map(lambda name: name['first'], names))\n",
    "first_names"
   ]
  },
  {
   "cell_type": "code",
   "execution_count": null,
   "metadata": {},
   "outputs": [],
   "source": [
    "# you can use maps without lambda, altho you gotta define the function first\n",
    "def cube(x):\n",
    "    return x**3\n",
    "ans = list(map(cube,nums))\n",
    "ans"
   ]
  },
  {
   "cell_type": "code",
   "execution_count": null,
   "metadata": {},
   "outputs": [],
   "source": [
    "def decrement_list(l):\n",
    "    return list(map(lambda n: n-1,l))\n",
    "\n",
    "print(nums)\n",
    "print(decrement_list(nums))"
   ]
  },
  {
   "cell_type": "markdown",
   "metadata": {},
   "source": [
    "## filters, similar to maps but this one filters values using conditions"
   ]
  },
  {
   "cell_type": "code",
   "execution_count": null,
   "metadata": {},
   "outputs": [],
   "source": [
    "evens = list(filter(lambda n: n % 2 ==0,nums))\n",
    "print(evens)\n",
    "\n",
    "# again you can use a regular function instead of lambdas\n",
    "def even_only(x):\n",
    "    if x % 2 == 0:\n",
    "        return x\n",
    "evens = list(filter(even_only,nums))\n",
    "print(evens)"
   ]
  },
  {
   "cell_type": "code",
   "execution_count": null,
   "metadata": {},
   "outputs": [],
   "source": [
    "names = ['plato','socrates','anaximander','thales','anaximedes','aristotle','cebes','heraclitus','alexander']\n",
    "a_names = list(filter(lambda n: n[0] == 'a', names))\n",
    "a_names"
   ]
  },
  {
   "cell_type": "code",
   "execution_count": null,
   "metadata": {},
   "outputs": [],
   "source": [
    "philosophers = [\n",
    "    {'name':'socrates','philosophy':['examine your life']},\n",
    "    {'name':'diogenes','philosophy':['live with nature']},\n",
    "    {'name':'nietzsche','philosophy':['find your why']},\n",
    "    {'name':'jordan','philosophy':['clean up your room']},\n",
    "    {'name':'viktor frankl','philosophy':['will to meaning']},\n",
    "    {'name':'ryu','philosophy':[]}\n",
    "]\n",
    "active_philosophers = filter(lambda p: p['philosophy'], philosophers)\n",
    "inactive_philosophers = filter(lambda p: not p['philosophy'], philosophers)\n",
    "print(list(active_philosophers))\n",
    "list(inactive_philosophers)\n"
   ]
  },
  {
   "cell_type": "markdown",
   "metadata": {},
   "source": [
    "## combining filter and map"
   ]
  },
  {
   "cell_type": "code",
   "execution_count": null,
   "metadata": {},
   "outputs": [],
   "source": [
    "inactive_philosophers_caps = list(map(lambda n: n['name'].upper(), \n",
    "                                      filter(lambda p: len(p['philosophy']) == 0,philosophers)))\n",
    "inactive_philosophers_caps"
   ]
  },
  {
   "cell_type": "code",
   "execution_count": null,
   "metadata": {},
   "outputs": [],
   "source": [
    "# just me practicing list comprehension\n",
    "active_philosopher = [n for n in philosophers if n['philosophy'] ]\n",
    "print(active_philosopher)\n",
    "inactive_philosopher = [n['name'] for n in philosophers if not n['philosophy']]\n",
    "inactive_philosopher"
   ]
  },
  {
   "cell_type": "markdown",
   "metadata": {},
   "source": [
    "## all, returns True if all elements in an iterable are truthy"
   ]
  },
  {
   "cell_type": "code",
   "execution_count": null,
   "metadata": {},
   "outputs": [],
   "source": [
    "# should return True\n",
    "all([num for num in range(1,10) if num % 2 == 0])\n",
    "\n",
    "# 'all' should return False because the list has a zero, zero is falsy\n",
    "nums = list(range(0,10))\n",
    "all([num for num in nums if num % 2 == 0])\n"
   ]
  },
  {
   "cell_type": "markdown",
   "metadata": {},
   "source": [
    "## any, returns True if any of the elements in an iterable is truthy"
   ]
  },
  {
   "cell_type": "code",
   "execution_count": null,
   "metadata": {},
   "outputs": [],
   "source": [
    "# should return True\n",
    "nums = list(range(0,10))\n",
    "any([num for num in nums if num % 2 == 0])\n",
    "\n",
    "# should return False\n",
    "any([num for num in nums if num % 2 == 2])"
   ]
  },
  {
   "cell_type": "markdown",
   "metadata": {},
   "source": [
    "## generators, does not return a list. More light weight. Used for iterating once and not storing"
   ]
  },
  {
   "cell_type": "code",
   "execution_count": null,
   "metadata": {},
   "outputs": [],
   "source": [
    "import sys\n",
    "list_comp = sys.getsizeof([x*10 for x in range(1000)])\n",
    "gen_exp = sys.getsizeof(x*10 for x in range(1000))\n",
    "# size difference\n",
    "print(list_comp)\n",
    "print(gen_exp)"
   ]
  },
  {
   "cell_type": "code",
   "execution_count": null,
   "metadata": {},
   "outputs": [],
   "source": [
    "any(num for num in nums if num % 2 == 2) # still works\n",
    "(num for num in nums if num % 2 == 2) # this is a generator, this does not generate a list"
   ]
  },
  {
   "cell_type": "code",
   "execution_count": null,
   "metadata": {},
   "outputs": [],
   "source": [
    "# checks if all elements in a list are strings\n",
    "def is_all_strings(i):\n",
    "    return all(type(s)==str for s in i)"
   ]
  },
  {
   "cell_type": "markdown",
   "metadata": {},
   "source": [
    "## sorted, returns a new /copy sorted list from the items in iterable"
   ]
  },
  {
   "cell_type": "code",
   "execution_count": null,
   "metadata": {},
   "outputs": [],
   "source": [
    "random_arrangement = [5,7,2,3,6,1,7,9,2,3,4,5]\n",
    "print(random_arrangement)\n",
    "\n",
    "#does not modify the list, only returns a copy of the sorted list\n",
    "print(sorted(random_arrangement))\n",
    "print(random_arrangement)\n",
    "\n",
    "#modifies the list entirely \n",
    "random_arrangement.sort()\n",
    "print(random_arrangement)"
   ]
  },
  {
   "cell_type": "code",
   "execution_count": 40,
   "metadata": {},
   "outputs": [],
   "source": [
    "philosophers = [\n",
    "    {'name':'socrates','philosophy':['an unexamined life is not worth living']},\n",
    "    {'name':'diogenes','philosophy':['live with nature']},\n",
    "    {'name':'nietzsche','philosophy':['what doesnt kill me, makes me stronger']},\n",
    "    {'name':'jordan','philosophy':['clean up your room']},\n",
    "    {'name':'viktor frankl','philosophy':['will to meaning']},\n",
    "    {'name':'ryu','philosophy':[]}\n",
    "]\n",
    "friends = ('rachel','joey','monica','phoebe','ross','chandler')"
   ]
  },
  {
   "cell_type": "markdown",
   "metadata": {},
   "source": [
    "## sorting a dictionary. key=lambda, specifies what and how a collection should be sorted"
   ]
  },
  {
   "cell_type": "code",
   "execution_count": 41,
   "metadata": {},
   "outputs": [
    {
     "data": {
      "text/plain": [
       "[{'name': 'socrates',\n",
       "  'philosophy': ['an unexamined life is not worth living']},\n",
       " {'name': 'diogenes', 'philosophy': ['live with nature']},\n",
       " {'name': 'nietzsche',\n",
       "  'philosophy': ['what doesnt kill me, makes me stronger']},\n",
       " {'name': 'jordan', 'philosophy': ['clean up your room']},\n",
       " {'name': 'viktor frankl', 'philosophy': ['will to meaning']},\n",
       " {'name': 'ryu', 'philosophy': []}]"
      ]
     },
     "execution_count": 41,
     "metadata": {},
     "output_type": "execute_result"
    }
   ],
   "source": [
    "# sorts the dictionary by name\n",
    "sorted(philosophers,key= lambda p:p['name'])\n",
    "\n",
    "#sorts by the longest philosophy least to most\n",
    "sorted(philosophers,key= lambda p:len(p['philosophy']))\n",
    "\n",
    "#sorts by the longest philosophy most to least\n",
    "sorted(philosophers,key= lambda p:len(p['philosophy']),reverse=True) # reverse = True"
   ]
  },
  {
   "cell_type": "markdown",
   "metadata": {},
   "source": [
    "## max and min\n",
    "### max, returns largest item in an iterable or the largest of two or more arguments\n",
    "### min, the contrary"
   ]
  },
  {
   "cell_type": "code",
   "execution_count": 42,
   "metadata": {},
   "outputs": [
    {
     "name": "stdout",
     "output_type": "stream",
     "text": [
      "999\n",
      "40\n"
     ]
    }
   ],
   "source": [
    "print(max(list(range(40,1000))))\n",
    "print(min(list(range(40,1000))))"
   ]
  },
  {
   "cell_type": "code",
   "execution_count": 43,
   "metadata": {},
   "outputs": [
    {
     "data": {
      "text/plain": [
       "'chandler'"
      ]
     },
     "execution_count": 43,
     "metadata": {},
     "output_type": "execute_result"
    }
   ],
   "source": [
    "max(philosophers,key=lambda p: len(p['name']))\n",
    "max(friends,key= lambda n: len(n))"
   ]
  },
  {
   "cell_type": "markdown",
   "metadata": {},
   "source": [
    "## Colt's samples"
   ]
  },
  {
   "cell_type": "code",
   "execution_count": null,
   "metadata": {},
   "outputs": [],
   "source": [
    "names = ['Arya', \"Samson\", \"Dora\", \"Tim\", \"Ollivander\"]\n",
    "\n",
    "# finds the minimum length of a name in names\n",
    "min(len(name) for name in names) # 3\n",
    "\n",
    "# find the longest name itself\n",
    "max(names, key=lambda n:len(n)) #Ollivander\n",
    "\n",
    "songs = [\n",
    "\t{\"title\": \"happy birthday\", \"playcount\": 1},\n",
    "\t{\"title\": \"Survive\", \"playcount\": 6},\n",
    "\t{\"title\": \"YMCA\", \"playcount\": 99},\n",
    "\t{\"title\": \"Toxic\", \"playcount\": 31}\n",
    "]\n",
    "\n",
    "# Finds the song with the lowerest playcount\n",
    "min(songs, key=lambda s: s['playcount']) #{\"title\": \"happy birthday\", \"playcount\": 1}\n",
    "\n",
    "# Finds the title of the most played song\n",
    "max(songs, key=lambda s: s['playcount'])['title'] #YMCA\n",
    "\n",
    "# returns min and max of an iterable into a tuple\n",
    "def extremes(nums):\n",
    "    return(min(nums), max(nums))"
   ]
  },
  {
   "cell_type": "markdown",
   "metadata": {},
   "source": [
    "## reversed(), reverses an iterator\n",
    "### list.reverse(), will only reverse lists in place"
   ]
  },
  {
   "cell_type": "code",
   "execution_count": 26,
   "metadata": {},
   "outputs": [
    {
     "name": "stdout",
     "output_type": "stream",
     "text": [
      "[1, 2, 3, 4, 5, 6]\n",
      "[6, 5, 4, 3, 2, 1]\n",
      "[1, 2, 3, 4, 5, 6]\n",
      "[6, 5, 4, 3, 2, 1]\n",
      "gnirts a tsuj\n",
      "gnirt sa tsuj\n",
      "9 8 7 6 5 4 3 2 1 "
     ]
    }
   ],
   "source": [
    "# useful if you want a reverse loop\n",
    "for x in reversed(range(1,10)):\n",
    "    print(x, end=' ')\n",
    "\n",
    "nums = [1,2,3,4,5,6]\n",
    "print(nums)\n",
    "\n",
    "# reverses a list and alters the original list\n",
    "nums.reverse()\n",
    "print(nums)\n",
    "\n",
    "# reverses the list back, but does not alter the original\n",
    "print(list(reversed(nums)))\n",
    "print(nums)\n",
    "\n",
    "# reverse a string, and store it in a list\n",
    "list(reversed('just a string'))\n",
    "\n",
    "# if you just wanna reverse a string just use slicing\n",
    "str(reversed('just a string')) # doesnt really work the way you want\n",
    "\n",
    "# this is a way\n",
    "print('just a string'[::-1])\n",
    "\n",
    "# or this\n",
    "print(''.join(list(reversed('just as tring'))))\n",
    "\n"
   ]
  },
  {
   "cell_type": "markdown",
   "metadata": {},
   "source": [
    "## abs(), sum(), round()"
   ]
  },
  {
   "cell_type": "markdown",
   "metadata": {},
   "source": [
    "### fabs"
   ]
  },
  {
   "cell_type": "code",
   "execution_count": 30,
   "metadata": {},
   "outputs": [
    {
     "data": {
      "text/plain": [
       "1.3421"
      ]
     },
     "execution_count": 30,
     "metadata": {},
     "output_type": "execute_result"
    }
   ],
   "source": [
    "# you already know what abs does, it takes an absolute value \n",
    "# fabs stands for float absolute value\n",
    "from math import fabs\n",
    "\n",
    "# this should return the absolute value\n",
    "fabs(-1.3421)"
   ]
  },
  {
   "cell_type": "markdown",
   "metadata": {},
   "source": [
    "### sum, takes an iterable and an optional start, returns the start and the items of an iterable from left to right and returns the total"
   ]
  },
  {
   "cell_type": "code",
   "execution_count": 36,
   "metadata": {},
   "outputs": [
    {
     "data": {
      "text/plain": [
       "12"
      ]
     },
     "execution_count": 36,
     "metadata": {},
     "output_type": "execute_result"
    }
   ],
   "source": [
    "# adding a simple list\n",
    "\n",
    "# returns 6\n",
    "sum([1,2,3])\n",
    "\n",
    "# returns 12, sstarts outside the list on the second parameter\n",
    "sum([1,2,3],6)\n"
   ]
  },
  {
   "cell_type": "markdown",
   "metadata": {},
   "source": [
    "## round, returns the number rounded to ndigits precision after decimal point"
   ]
  },
  {
   "cell_type": "code",
   "execution_count": 41,
   "metadata": {},
   "outputs": [
    {
     "data": {
      "text/plain": [
       "10.0"
      ]
     },
     "execution_count": 41,
     "metadata": {},
     "output_type": "execute_result"
    }
   ],
   "source": [
    "# rounds to 2 decimal points\n",
    "round(3.345,2)\n",
    "\n",
    "# it kinda slips and it cant get too precise on big decimals\n",
    "round(9.999999999999999999999999999999999,15)"
   ]
  },
  {
   "cell_type": "code",
   "execution_count": 44,
   "metadata": {},
   "outputs": [
    {
     "data": {
      "text/plain": [
       "900"
      ]
     },
     "execution_count": 44,
     "metadata": {},
     "output_type": "execute_result"
    }
   ],
   "source": [
    "# takes the highest absolute value from a list\n",
    "x=([300,123,-900])\n",
    "\n",
    "def max_magnitude(x):\n",
    "    return max(abs(n) for n in x)\n",
    "\n",
    "max_magnitude(x)"
   ]
  },
  {
   "cell_type": "code",
   "execution_count": 54,
   "metadata": {},
   "outputs": [
    {
     "data": {
      "text/plain": [
       "646"
      ]
     },
     "execution_count": 54,
     "metadata": {},
     "output_type": "execute_result"
    }
   ],
   "source": [
    "# sums all even values\n",
    "def sum_even_values(*args):\n",
    "    return sum([n for n in args if n % 2 ==0])\n",
    "\n",
    "sum_even_values(1,2,3,4,5,6,63,634,6347,7)"
   ]
  },
  {
   "cell_type": "code",
   "execution_count": 58,
   "metadata": {},
   "outputs": [
    {
     "data": {
      "text/plain": [
       "0"
      ]
     },
     "execution_count": 58,
     "metadata": {},
     "output_type": "execute_result"
    }
   ],
   "source": [
    "# sums all floats and returns 0 if there are no floats\n",
    "def sum_floats(*args):\n",
    "    if any([f for f in args if type(f) == float]):\n",
    "        return sum(f for f in args if type(f) == float)\n",
    "    else:\n",
    "        return 0"
   ]
  },
  {
   "cell_type": "markdown",
   "metadata": {},
   "source": [
    "## zip(collection1,collection2)\n",
    "## zip, make an iterator that aggregates elements from each of the iterables\n",
    "### returns an iterator of tuples, where the ith tuple containts the ith element from each of the argument sequences or iterables\n",
    "### the iterator stops when the shortest input iterable is exhausted"
   ]
  },
  {
   "cell_type": "code",
   "execution_count": 90,
   "metadata": {},
   "outputs": [
    {
     "data": {
      "text/plain": [
       "{1: 'no,', 2: 'i', 3: 'am', 4: 'your', 5: 'father!'}"
      ]
     },
     "execution_count": 90,
     "metadata": {},
     "output_type": "execute_result"
    }
   ],
   "source": [
    "\n",
    "# 2 lists inside a tuple, using the function zip, combines both the lists\n",
    "nums1 = [1,2,3,4,5]\n",
    "nums2 = [6,7,8,9,10]\n",
    "words = ['no,','i','am','your','father!']\n",
    "\n",
    "list(zip([1,2,4], [4,5,6])) # [(1,4),(2,5),(4,6)]\n",
    "\n",
    "dict(zip([1,2,4], [4,5,6])) # {1: 4, 2: 5, 4: 6}\n",
    "\n",
    "a = list(zip(nums1,nums2)) # [(1, 6), (2, 7), (3, 8), (4, 9), (5, 10)]\n",
    "\n",
    "b = dict(zip(nums1,nums2)) # {1: 6, 2: 7, 3: 8, 4: 9, 5: 10}\n",
    "\n",
    "list(zip(nums1,nums2,words)) # parameters will be zipped in order\n",
    "\n",
    "dict(zip(nums1,words))"
   ]
  },
  {
   "cell_type": "markdown",
   "metadata": {},
   "source": [
    "## unpacking a list using *"
   ]
  },
  {
   "cell_type": "code",
   "execution_count": 94,
   "metadata": {},
   "outputs": [
    {
     "name": "stdout",
     "output_type": "stream",
     "text": [
      "[(1, 2, 3, 4, 5), (6, 7, 8, 9, 10)]\n"
     ]
    }
   ],
   "source": [
    "print(list(zip(*a)))"
   ]
  },
  {
   "cell_type": "markdown",
   "metadata": {},
   "source": [
    "## more complex zipping"
   ]
  },
  {
   "cell_type": "code",
   "execution_count": 14,
   "metadata": {},
   "outputs": [
    {
     "name": "stdout",
     "output_type": "stream",
     "text": [
      "{'dan': 98, 'ang': 91, 'kate': 78}\n"
     ]
    }
   ],
   "source": [
    "midterms = [80,91,78]\n",
    "finals = [98,89,53]\n",
    "students = ['dan', 'ang', 'kate']\n",
    "\n",
    "# using list comprehension\n",
    "lc = [pair for pair in zip (midterms,finals)]\n",
    "\n",
    "# to find the highest score use max\n",
    "#sm = [max(pair) for pair in zip(students, midterms,finals)]\n",
    "\n",
    "# returns dict with {student:highest score} USING DICT COMP\n",
    "# {'dan': 98, 'ang': 91, 'kate': 78}\n",
    "final_grades = {t[0]:max(t[1], t[2]) for t in zip(students, midterms, finals)}\n",
    "print(final_grades)"
   ]
  },
  {
   "cell_type": "code",
   "execution_count": 15,
   "metadata": {},
   "outputs": [],
   "source": [
    "# returns dict with {student:highest score} (same thing as above) USING MAP+LAMBDA\n",
    "# {'dan': 98, 'ang': 91, 'kate': 78}\n",
    "final_grades = dict(\n",
    "\tzip(\n",
    "\t\tstudents,\n",
    "\t\tmap(\n",
    "\t\t\tlambda pair: max(pair),\n",
    "\t\t\tzip(midterms, finals)\n",
    "\t\t)\n",
    "\t)\n",
    ")\n",
    "\n",
    "# returns dict with student:average score\n",
    "# {'dan': 89.0, 'ang': 90.0, 'kate': 65.5}\n",
    "avg_grades = dict(\n",
    "\tzip(\n",
    "\t\tstudents,\n",
    "\t\tmap(\n",
    "\t\t\tlambda pair: ((pair[0]+pair[1])/2),\n",
    "\t\t\tzip(midterms, finals)\n",
    "\t\t)\n",
    "\t)\n",
    ")"
   ]
  },
  {
   "cell_type": "markdown",
   "metadata": {},
   "source": [
    "## Pretty difficult exercise"
   ]
  },
  {
   "cell_type": "code",
   "execution_count": 12,
   "metadata": {},
   "outputs": [
    {
     "name": "stdout",
     "output_type": "stream",
     "text": [
      "hhia\n"
     ]
    }
   ],
   "source": [
    "str1,str2 ='hi','ha'\n",
    "def interleave(str1,str2):\n",
    "    return ''.join(''.join(x) for x in (zip(str1,str2)))\n",
    "print(interleave(str1,str2))"
   ]
  },
  {
   "cell_type": "code",
   "execution_count": null,
   "metadata": {},
   "outputs": [],
   "source": [
    "def triple_and_filter(lst):\n",
    "    return list(filter(lambda x: x % 4 == 0, map(lambda x: x*3, lst)))"
   ]
  },
  {
   "cell_type": "code",
   "execution_count": null,
   "metadata": {},
   "outputs": [],
   "source": [
    "def extract_full_name(l):\n",
    "    return list(map(lambda val: \"{} {}\".format(val['first'], val['last']), l))"
   ]
  }
 ],
 "metadata": {
  "kernelspec": {
   "display_name": "Python 3",
   "language": "python",
   "name": "python3"
  },
  "language_info": {
   "codemirror_mode": {
    "name": "ipython",
    "version": 3
   },
   "file_extension": ".py",
   "mimetype": "text/x-python",
   "name": "python",
   "nbconvert_exporter": "python",
   "pygments_lexer": "ipython3",
   "version": "3.8.3"
  }
 },
 "nbformat": 4,
 "nbformat_minor": 4
}

{
 "metadata": {
  "language_info": {
   "codemirror_mode": {
    "name": "ipython",
    "version": 3
   },
   "file_extension": ".py",
   "mimetype": "text/x-python",
   "name": "python",
   "nbconvert_exporter": "python",
   "pygments_lexer": "ipython3",
   "version": "3.8.5-final"
  },
  "orig_nbformat": 2,
  "kernelspec": {
   "name": "python3",
   "display_name": "Python 3.8.5 64-bit",
   "metadata": {
    "interpreter": {
     "hash": "4fdd258b76f1ab73cc974bf5f3eafc0415c271d29cb0b30a0db746df813e6c65"
    }
   }
  }
 },
 "nbformat": 4,
 "nbformat_minor": 2,
 "cells": [
  {
   "cell_type": "code",
   "execution_count": null,
   "metadata": {},
   "outputs": [],
   "source": [
    "#help() to get documentation"
   ]
  },
  {
   "cell_type": "code",
   "execution_count": 4,
   "metadata": {},
   "outputs": [
    {
     "output_type": "stream",
     "name": "stdout",
     "text": [
      "<class '__main__.User'>\n"
     ]
    }
   ],
   "source": [
    "# defining functions    \n",
    "class User:\n",
    "    #write methods, attributes here.\n",
    "    pass\n",
    "\n",
    "# instantiation defining instances of the class.\n",
    "user1 = User()\n",
    "print(type(user2))"
   ]
  },
  {
   "cell_type": "code",
   "execution_count": 8,
   "metadata": {},
   "outputs": [
    {
     "output_type": "stream",
     "name": "stdout",
     "text": [
      "yo wass up.\nyo wass up.\n"
     ]
    }
   ],
   "source": [
    "# first use of initialization\n",
    "class User:\n",
    "    def __init__(self):\n",
    "        print(\"yo wass up.\")\n",
    "        \n",
    "user1 = User()\n",
    "user2 = User()"
   ]
  },
  {
   "cell_type": "code",
   "execution_count": 19,
   "metadata": {},
   "outputs": [
    {
     "output_type": "execute_result",
     "data": {
      "text/plain": [
       "'Aldous'"
      ]
     },
     "metadata": {},
     "execution_count": 19
    }
   ],
   "source": [
    "# using args\n",
    "class User:\n",
    "    def __init__(self,first_name,last_name,age):\n",
    "        self.first_name = first_name\n",
    "        self.last_name = last_name\n",
    "        self.age = age\n",
    "\n",
    "instance_one = User(\"Garcon\", \"Flabberghast\", 32)\n",
    "instance_two = User(\"Aldous\", \"Snow\", 26)\n",
    "\n",
    "instance_two.first_name"
   ]
  },
  {
   "source": [
    "## Underscores\n",
    "### _single = privates\n",
    "### __double = name mangling, to make something unique for some class\n",
    "### ____dunder____ = python designated"
   ],
   "cell_type": "markdown",
   "metadata": {}
  },
  {
   "cell_type": "code",
   "execution_count": 62,
   "metadata": {},
   "outputs": [],
   "source": [
    "class User:\n",
    "\n",
    "    activeUsers = 0\n",
    "\n",
    "    def __init__(self,first_name,last_name,age):\n",
    "\n",
    "        self.first_name = first_name\n",
    "        self.last_name = last_name\n",
    "        self.age = age\n",
    "\n",
    "        User.activeUsers += 1\n",
    "\n",
    "    # GETTERS\n",
    "    def combineName(self):\n",
    "\n",
    "        return f\"{self.first_name} {self.last_name}\"\n",
    "\n",
    "    def greetUser(self):\n",
    "\n",
    "        return \"Hello there %s %s, you are %g years old.\" %(self.first_name,self.last_name,self.age)\n",
    "\n",
    "    def initials(self):\n",
    "\n",
    "        return \"%s.%s.\" %(self.first_name[0],self.last_name[0])\n",
    "    \n",
    "    def likes(self,thing):\n",
    "\n",
    "        self.thing = thing\n",
    "\n",
    "        return \"%s is %g years old and %s likes %s.\" %(self.first_name,self.age,self.first_name,self.thing)\n",
    "\n",
    "    def isSenior(self):\n",
    "        return int(self.age) >=65\n",
    "\n",
    "    def logOut(self):\n",
    "\n",
    "        User.activeUsers -= 1\n",
    "\n",
    "        return \"%s has left.\"%self.first_name"
   ]
  },
  {
   "cell_type": "code",
   "execution_count": 63,
   "metadata": {},
   "outputs": [
    {
     "output_type": "stream",
     "name": "stdout",
     "text": [
      "Garcon Flabberghast\nAldous Snow\nHello there Garcon Flabberghast, you are 66 years old.\nHello there Aldous Snow, you are 26 years old.\nG.F.\nA.S.\nGarcon is 66 years old and Garcon likes pancakes.\nAldous is 26 years old and Aldous likes hotdogs.\nTrue\nFalse\n"
     ]
    }
   ],
   "source": [
    "\n",
    "instance_one = User(\"Garcon\", \"Flabberghast\", 66,)\n",
    "instance_two = User(\"Aldous\", \"Snow\", 26)\n",
    "\n",
    "print(instance_one.combineName())\n",
    "print(instance_two.combineName())\n",
    "\n",
    "print(instance_one.greetUser())\n",
    "print(instance_two.greetUser())\n",
    "\n",
    "print(instance_one.initials())\n",
    "print(instance_two.initials())\n",
    "\n",
    "print(instance_one.likes(\"pancakes\"))\n",
    "print(instance_two.likes(\"hotdogs\"))\n",
    "\n",
    "print(instance_one.isSenior())\n",
    "print(instance_two.isSenior())"
   ]
  },
  {
   "cell_type": "code",
   "execution_count": 64,
   "metadata": {},
   "outputs": [
    {
     "output_type": "stream",
     "name": "stdout",
     "text": [
      "2\n4\n3\n"
     ]
    }
   ],
   "source": [
    "print(User.activeUsers)\n",
    "user1 = User(\"Garcon\", \"Wayne\", \"66\")\n",
    "user2 = User(\"Jesse\", \"Pattinson\", \"23\")\n",
    "print(User.activeUsers)\n",
    "\n",
    "user1.logOut()\n",
    "print(User.activeUsers)"
   ]
  },
  {
   "cell_type": "code",
   "execution_count": 130,
   "metadata": {},
   "outputs": [],
   "source": [
    "class Pet:\n",
    "    allowed = ['cat',\"dog\",'mouse','dragon']\n",
    "    activePets = 0\n",
    "    inactivePets = 0\n",
    "\n",
    "    def __init__(self,name,species):\n",
    "\n",
    "        if species.lower() not in Pet.allowed:\n",
    "            raise ValueError(\"%s is not allowed as a pet.\"%species)\n",
    "\n",
    "        self.name = name\n",
    "        self.species = species.lower()\n",
    "\n",
    "        Pet.activePets += 1\n",
    "    \n",
    "    def introducePet(self):\n",
    "\n",
    "        return \"%s is a %s.\"%(self.name,self.species)\n",
    "\n",
    "    def setSpecies(self, species):\n",
    "\n",
    "        if species.lower() not in Pet.allowed:\n",
    "            raise ValueError (\"%s is not allowed as a pet.\"%species)\n",
    "        self.species = species\n"
   ]
  },
  {
   "cell_type": "code",
   "execution_count": 131,
   "metadata": {},
   "outputs": [],
   "source": [
    "petOne = Pet(\"Kyammy\", \"Cat\")\n",
    "petTwo = Pet(\"TP\", \"Dog\")\n",
    "petThree = Pet(\"Stewie\", \"Mouse\")"
   ]
  },
  {
   "cell_type": "code",
   "execution_count": 138,
   "metadata": {},
   "outputs": [
    {
     "output_type": "execute_result",
     "data": {
      "text/plain": [
       "'Kyammy is a cat.'"
      ]
     },
     "metadata": {},
     "execution_count": 138
    }
   ],
   "source": [
    "petOne.introducePet() # cat\n",
    "petOne.setSpecies(\"Dragon\")\n",
    "petOne.introducePet()\n",
    "\n",
    "Pet.allowed.append(\"spider\")\n",
    "Pet.allowed\n",
    "petOne.allowed = [\"cat\",\"dog\"] \n",
    "Pet.allowed\n",
    "petOne.species = \"cat\"\n",
    "petOne.species\n",
    "petOne.introducePet()"
   ]
  },
  {
   "source": [
    "## Exercise"
   ],
   "cell_type": "markdown",
   "metadata": {}
  },
  {
   "cell_type": "code",
   "execution_count": 139,
   "metadata": {},
   "outputs": [],
   "source": [
    "class Chicken:\n",
    "    total_eggs = 0\n",
    "        \n",
    "    def __init__(self, name, species):\n",
    "        self.name = name\n",
    "        self.species = species\n",
    "        self.eggs = 0\n",
    "        \n",
    "    def lay_egg(self):\n",
    "        self.eggs += 1\n",
    "        Chicken.total_eggs += 1\n",
    "        return self.eggs"
   ]
  },
  {
   "cell_type": "code",
   "execution_count": null,
   "metadata": {},
   "outputs": [],
   "source": []
  }
 ]
}
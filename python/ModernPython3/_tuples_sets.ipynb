{
 "cells": [
  {
   "cell_type": "markdown",
   "metadata": {},
   "source": [
    "# Tuples and Sets\n",
    "### -tuples are faster, safer from bugs, or immutable lists\n",
    "### -sets are collections of data that do not have duplicate values. Unique. No order"
   ]
  },
  {
   "cell_type": "markdown",
   "metadata": {},
   "source": [
    "## tuple methods .count() and .index()"
   ]
  },
  {
   "cell_type": "markdown",
   "metadata": {},
   "source": [
    "## TUPLES"
   ]
  },
  {
   "cell_type": "code",
   "execution_count": 2,
   "metadata": {},
   "outputs": [],
   "source": [
    "x = (1,2,3,4,(5,6,7)) # immutable, you cannot update or change the values\n",
    "alpha = ('a','b','c','d')\n",
    "vowels = ['a','e','i','o','u']"
   ]
  },
  {
   "cell_type": "code",
   "execution_count": 17,
   "metadata": {},
   "outputs": [
    {
     "data": {
      "text/plain": [
       "(3, 4)"
      ]
     },
     "execution_count": 17,
     "metadata": {},
     "output_type": "execute_result"
    }
   ],
   "source": [
    "x.count(1) # counts how many times the item occurs inside a tuple\n",
    "x.index(4) # finds the item at that index\n",
    "x[2:4] # to access data/item out, you can use slices too"
   ]
  },
  {
   "cell_type": "code",
   "execution_count": 3,
   "metadata": {},
   "outputs": [
    {
     "data": {
      "text/plain": [
       "('a', 'e', 'i', 'o', 'u')"
      ]
     },
     "execution_count": 3,
     "metadata": {},
     "output_type": "execute_result"
    }
   ],
   "source": [
    "# to convert a list into a tuple\n",
    "tuple(vowels)"
   ]
  },
  {
   "cell_type": "code",
   "execution_count": 4,
   "metadata": {},
   "outputs": [
    {
     "data": {
      "text/plain": [
       "'a'"
      ]
     },
     "execution_count": 4,
     "metadata": {},
     "output_type": "execute_result"
    }
   ],
   "source": [
    "# to access data out of a tuple, just call the index\n",
    "vowels[0]"
   ]
  },
  {
   "cell_type": "code",
   "execution_count": 6,
   "metadata": {},
   "outputs": [
    {
     "data": {
      "text/plain": [
       "{(35.652832, 139.839478): 'Tokyo',\n",
       " (40.73061, -73.935242): 'New York',\n",
       " (37.98381, 23.727539): 'Greece'}"
      ]
     },
     "execution_count": 6,
     "metadata": {},
     "output_type": "execute_result"
    }
   ],
   "source": [
    "#you can store tuples in dictionaries as keys, lists cannot be stored in a dictionary as keys\n",
    "coordinates = {\n",
    "        #key                     #value\n",
    "        (35.652832,139.839478) : 'Tokyo', \n",
    "        (40.730610,-73.935242) : 'New York',\n",
    "        (37.983810,\t23.727539) : 'Greece'\n",
    "    }\n",
    "coordinates"
   ]
  },
  {
   "cell_type": "code",
   "execution_count": 16,
   "metadata": {},
   "outputs": [
    {
     "name": "stdout",
     "output_type": "stream",
     "text": [
      "1\n",
      "2\n",
      "3\n",
      "4\n",
      "(5, 6, 7)\n",
      "u\n",
      "o\n",
      "i\n",
      "e\n",
      "a\n"
     ]
    }
   ],
   "source": [
    "x = (1,2,3,4,(5,6,7))\n",
    "vowels = ['a','e','i','o','u']\n",
    "for i in x:\n",
    "    print(i)\n",
    "i = len(vowels) -1\n",
    "while i >= 0 :\n",
    "    print(vowels[i])\n",
    "    i -= 1"
   ]
  },
  {
   "cell_type": "markdown",
   "metadata": {},
   "source": [
    "# SETS"
   ]
  },
  {
   "cell_type": "markdown",
   "metadata": {},
   "source": [
    "## Methods : .add(item) .remove(item) .copy()"
   ]
  },
  {
   "cell_type": "code",
   "execution_count": null,
   "metadata": {},
   "outputs": [],
   "source": [
    "sets = { 1,2,'a','asd','afas','asfas','b','b','c','d','sdasda','asd','dasda','dsfgsd'}\n",
    "sets.add('hotdog') # to add something in set, but cannot add duplicate (does nothing)\n",
    "sets.remove('dsfgsd') # remove somethiing from a set\n",
    "sets2 = sets.copy() #copies a set\n",
    "\n",
    "sets | s # combine to sets and removes duplicates\n",
    "sets & s # identifies duplicates in 2 sets where they intersect"
   ]
  },
  {
   "cell_type": "code",
   "execution_count": 18,
   "metadata": {},
   "outputs": [
    {
     "name": "stdout",
     "output_type": "stream",
     "text": [
      "10\n"
     ]
    },
    {
     "data": {
      "text/plain": [
       "{'a', 'afas', 'asd', 'asfas', 'b', 'c', 'd', 'dasda', 'dsfgsd', 'sdasda'}"
      ]
     },
     "execution_count": 18,
     "metadata": {},
     "output_type": "execute_result"
    }
   ],
   "source": [
    "s = set({1,4,5})\n",
    "s = {1,2,4,5,'lol','very cool',3.1415926535897932384626433}\n",
    "# for stuff in s:\n",
    "#     print(stuff,'' , end='')\n",
    "#     break\n",
    "lists = ['a','asd','afas','asfas','b','b','c','d','sdasda','asd','dasda','dsfgsd']\n",
    "print(len(set(lists))) #convert to length of unique values in set\n",
    "non = list(set(lists)) #convert a list to sets to remove duplicates, and then convert back to list\n",
    "set(lists)"
   ]
  },
  {
   "cell_type": "markdown",
   "metadata": {},
   "source": [
    "## Set comprehension"
   ]
  },
  {
   "cell_type": "code",
   "execution_count": 19,
   "metadata": {},
   "outputs": [
    {
     "data": {
      "text/plain": [
       "True"
      ]
     },
     "execution_count": 19,
     "metadata": {},
     "output_type": "execute_result"
    }
   ],
   "source": [
    "v = { x**2 for x in range(11)} # to iterate sets, no colon, only the keys\n",
    "c = {char.upper() for char in 'aoissoidfoeuueueuaeiouidfaodfjaoidfa'} # removes the dupe strings, and the output will have no order\n",
    "y = { x: x**2 for x in range(11)} # now with colon, THIS MAKES IT A DICTIONARY\n",
    "\n",
    "strings1 = 'awdijaoisjdoiasjdiawdjiawaeioud'\n",
    "boi = {letter for letter in strings1 if letter in 'aeiou'} # only takes vowels from a string\n",
    "len(boi) == 5 #if length of boi is 5, that means all vowels are in strings1 "
   ]
  },
  {
   "cell_type": "code",
   "execution_count": null,
   "metadata": {},
   "outputs": [],
   "source": []
  }
 ],
 "metadata": {
  "kernelspec": {
   "display_name": "Python 3",
   "language": "python",
   "name": "python3"
  },
  "language_info": {
   "codemirror_mode": {
    "name": "ipython",
    "version": 3
   },
   "file_extension": ".py",
   "mimetype": "text/x-python",
   "name": "python",
   "nbconvert_exporter": "python",
   "pygments_lexer": "ipython3",
   "version": "3.8.3"
  }
 },
 "nbformat": 4,
 "nbformat_minor": 4
}

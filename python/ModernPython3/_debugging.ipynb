{
 "cells": [
  {
   "cell_type": "markdown",
   "metadata": {},
   "source": [
    "# debugging"
   ]
  },
  {
   "cell_type": "code",
   "execution_count": 5,
   "metadata": {},
   "outputs": [
    {
     "name": "stdout",
     "output_type": "stream",
     "text": [
      "Printed lol in cyan\n"
     ]
    }
   ],
   "source": [
    "def colorize(text, color):\n",
    "\tcolors = (\"cyan\", \"yellow\", \"blue\", \"green\", \"magenta\")\n",
    "\tif type(text) is not str:\n",
    "\t\traise TypeError(\"text must be instance of str\")\n",
    "\tif color not in colors:\n",
    "\t\traise ValueError(\"color is invalid color\")\n",
    "\tprint(f\"Printed {text} in {color}\")\n",
    "\n",
    "colorize([], 'cyan')\n",
    "# colorize(34, \"red\")"
   ]
  },
  {
   "cell_type": "code",
   "execution_count": 11,
   "metadata": {},
   "outputs": [
    {
     "name": "stdout",
     "output_type": "stream",
     "text": [
      "None\n"
     ]
    }
   ],
   "source": [
    "# THE BASIC SYNTAX:\n",
    "# try:\n",
    "# except:\n",
    "\n",
    "# try: \n",
    "#     foobar\n",
    "# except:\n",
    "#     print(\"PROBLEM!\")\n",
    "# print(\"after the try\")\n",
    "\n",
    "def get(d,key):\n",
    "\ttry:\n",
    "\t\treturn d[key]\n",
    "\texcept KeyError:\n",
    "\t\treturn None\n",
    "d = {\"name\": \"Ricky\"}\n",
    "print(get(d, \"city\"))\n",
    "d[\"city\"]"
   ]
  },
  {
   "cell_type": "code",
   "execution_count": null,
   "metadata": {},
   "outputs": [],
   "source": [
    "# try:\n",
    "# except:\n",
    "# else:\n",
    "# finally:\n",
    "\n",
    "\n",
    "while True:\n",
    "\ttry:\n",
    "\t\tnum = int(input(\"please enter a number: \"))\n",
    "\texcept ValueError:\n",
    "\t\tprint(\"That's not a number!\")\n",
    "\telse:\n",
    "\t\tprint(\"Good job, you entered a number!\")\n",
    "\t\tbreak\n",
    "\tfinally:\n",
    "\t\tprint(\"RUNS NO MATTER WHAT!\")\n",
    "print(\"REST OF GAME LOGIC RUNS!\")\n",
    "\n",
    "# try:\n",
    "# \tnum = int(input(\"please enter a number: \"))\n",
    "# except:\n",
    "# \tprint(\"That's not a number!\")\n",
    "# else:\n",
    "# \tprint(\"I'M IN THE ELSE!\")\n",
    "# finally:\n",
    "# \tprint(\"RUNS NO MATTER WHAT!\")"
   ]
  },
  {
   "cell_type": "code",
   "execution_count": null,
   "metadata": {},
   "outputs": [],
   "source": [
    "# def divide(a,b):\n",
    "# \ttry:\n",
    "# \t\tresult = a/b\n",
    "# \texcept ZeroDivisionError:\n",
    "# \t\tprint(\"don't divide by zero please!\")\n",
    "# \texcept TypeError as err:\n",
    "# \t\tprint(\"a and b must be ints or floats\")\n",
    "# \t\tprint(err)\n",
    "# \telse:\n",
    "# \t\tprint(f\"{a} divided by {b} is {result}\")\n",
    "\n",
    "def divide(a,b):\n",
    "\ttry:\n",
    "\t\tresult = a/b\n",
    "\texcept (ZeroDivisionError, TypeError) as err:\n",
    "\t\tprint(\"Something went wrong!\")\n",
    "\t\tprint(err)\n",
    "\telse:\n",
    "\t\tprint(f\"{a} divided by {b} is {result}\")\n",
    "\n",
    "\n",
    "\n",
    "# print(divide(1,2))\n",
    "print(divide(1,'a'))\n",
    "print(divide(1,0))\n"
   ]
  },
  {
   "cell_type": "code",
   "execution_count": null,
   "metadata": {},
   "outputs": [],
   "source": [
    "# FIRST EXAMPLE:\n",
    "# import pdb\n",
    "# first = \"First\"\n",
    "# second = \"Second\"\n",
    "# pdb.set_trace()\n",
    "# result = first + second\n",
    "# third = \"Third\"\n",
    "# result += third\n",
    "# print(result)\n",
    "\n",
    "\n",
    "# Be careful with variable names!\n",
    "def add_numbers(a, b, c, d):\n",
    "    import pdb; pdb.set_trace() \n",
    "\n",
    "    return a + b + c + d\n",
    "add_numbers(1,2,3,4)\n",
    "\n",
    "# ===================\n",
    "# NOTES  NOTES  NOTES\n",
    "# ===================\n",
    "# import pdb\n",
    "# pdb.set_trace()\n",
    "\n",
    "# Also commonly on one line:\n",
    "# import pdb; pdb.set_trace()\n",
    "\n",
    "# Common PDB Commands:\n",
    "# l (list)\n",
    "# n (next line)\n",
    "# p (print)\n",
    "# c (continue - finishes debugging)\n"
   ]
  }
 ],
 "metadata": {
  "kernelspec": {
   "display_name": "Python 3",
   "language": "python",
   "name": "python3"
  },
  "language_info": {
   "codemirror_mode": {
    "name": "ipython",
    "version": 3
   },
   "file_extension": ".py",
   "mimetype": "text/x-python",
   "name": "python",
   "nbconvert_exporter": "python",
   "pygments_lexer": "ipython3",
   "version": "3.8.3"
  }
 },
 "nbformat": 4,
 "nbformat_minor": 4
}

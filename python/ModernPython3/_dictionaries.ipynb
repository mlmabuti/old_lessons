{
 "cells": [
  {
   "cell_type": "markdown",
   "metadata": {},
   "source": [
    "# Dictionaries"
   ]
  },
  {
   "cell_type": "markdown",
   "metadata": {},
   "source": [
    "## .keys() .values() .items() to get keys and values"
   ]
  },
  {
   "cell_type": "markdown",
   "metadata": {},
   "source": [
    "### .clear() = clears entire dict, \n",
    "### .copy() copies entire dict, \n",
    "### .fromkeys(key,value) creates a value in an empty dictionary\n",
    "### .get() just like in but .get() gets the key if it is inside the dictionary returns True, if ### not it returns None \n",
    "### .pop(key) returns the value of the key and removes it from the dictionary\n",
    "### .popitem() randomly pops any item from a dictionary \n",
    "### .update() updates items in a dictionary"
   ]
  },
  {
   "cell_type": "code",
   "execution_count": 69,
   "metadata": {},
   "outputs": [],
   "source": [
    "clone = instructor.copy() #clone == instructor  IS  True\n",
    "empty = {}.fromkeys(['a','b','c','d','e'],['unknown','suck','balls'])\n",
    "empty2 = {}.fromkeys(range(11), 'unknown') #it is iterable\n",
    "instructor.get('name') #retrieves a key in an object and returns None if the key does not exist, instead of error.\n",
    "bleh = instructor.get('name') #returns Colt which is the value of the key 'name'\n",
    "boi = instructor.pop('name') #pops colt and stores it in boi\n",
    "boii = a.popitem() #pops a random item in a and stores it in boii\n",
    "first = dict(a=1,b=2,c=3,d=4)\n",
    "second = {}\n",
    "second.update(first) #updates the empty dictionary second with the items in first\n",
    "#OVER WRITE A KEY\n",
    "second['a'] = 0.5 # if we update to first again, it will replace the 0.5 to the previous value of a because there can only be one value for a\n",
    "third = {'city' : 'new york'}\n",
    "third.update(first) #adds the items from first"
   ]
  },
  {
   "cell_type": "code",
   "execution_count": null,
   "metadata": {},
   "outputs": [],
   "source": [
    "# sample dictionary\n",
    "a = {\n",
    "     #KEYS    #VALUES\n",
    "     'name': 10101000,\n",
    "     'age' : 18,\n",
    "     'motto' : 'nothing',\n",
    "     'gender' : 'there are only 2',\n",
    "     12 : 'is a cool number',\n",
    "     'not gay' : False\n",
    "     }"
   ]
  },
  {
   "cell_type": "code",
   "execution_count": 5,
   "metadata": {},
   "outputs": [],
   "source": [
    "# to convert crap into a dictionary dict(crap)\n",
    "donations = dict(sam=25.0, lena=88.99, chuck=13.0, linus=99.5, stan=150.0, lisa=50.25, harrison=10.0)"
   ]
  },
  {
   "cell_type": "markdown",
   "metadata": {},
   "source": [
    "## Accessing values"
   ]
  },
  {
   "cell_type": "code",
   "execution_count": null,
   "metadata": {},
   "outputs": [],
   "source": [
    "a['name'] #would return the value of name from dictionary\n",
    "b = 'age'\n",
    "a[b] #would return the value of age from dictionary which is 18!\n",
    "c = 'not gay' #would return the value False"
   ]
  },
  {
   "cell_type": "markdown",
   "metadata": {},
   "source": [
    "## Combining keys and values"
   ]
  },
  {
   "cell_type": "code",
   "execution_count": 52,
   "metadata": {},
   "outputs": [
    {
     "name": "stdout",
     "output_type": "stream",
     "text": [
      "Neil Young\n"
     ]
    }
   ],
   "source": [
    "artist = {\n",
    "    \"first\": \"Neil\",\n",
    "    \"last\": \"Young\",\n",
    "    }\n",
    "full_name = artist['first'] + \" \" + artist['last'] # concatenation\n",
    "full_name = \"{} {}\".format(artist[\"first\"],artist[\"last\"]) # .format()\n",
    "full_name = f\"{artist['first']} {artist['last']}\" # f string\n",
    "print(full_name)"
   ]
  },
  {
   "cell_type": "code",
   "execution_count": 41,
   "metadata": {},
   "outputs": [],
   "source": [
    "from random import choice\n",
    "food = choice([\"cheese pizza\", \"quiche\",\"morning bun\",\"gummy bear\",\"tea cake\"])\n",
    "bakery_stock = {\n",
    "    \"almond croissant\" : 12,\n",
    "    \"toffee cookie\": 3,\n",
    "    \"morning bun\": 1,\n",
    "    \"chocolate chunk cookie\": 9,\n",
    "    \"tea cake\": 25\n",
    "}"
   ]
  },
  {
   "cell_type": "code",
   "execution_count": 42,
   "metadata": {},
   "outputs": [
    {
     "name": "stdout",
     "output_type": "stream",
     "text": [
      "morning bun\n",
      "1 left\n"
     ]
    }
   ],
   "source": [
    "# to get the value of a random generated food bakery_stock[food]\n",
    "print(food)\n",
    "if food in bakery_stock:\n",
    "    print(\"{} left\".format(bakery_stock[food])) # .format is a string method to use {}\n",
    "else:\n",
    "    print(\"We don't make that\")"
   ]
  },
  {
   "cell_type": "code",
   "execution_count": 40,
   "metadata": {},
   "outputs": [
    {
     "name": "stdout",
     "output_type": "stream",
     "text": [
      "gummy bear\n",
      "We don't make that\n"
     ]
    }
   ],
   "source": [
    "quantity = bakery_stock.get(food) #.get() will return None if it's not in bakery stock, and none is falsy\n",
    "print(food)\n",
    "if quantity: #IT IS TRUE IF FOOD IS IN BAkERY_STOCK\n",
    "    print(\"{} left\".format(quantity))\n",
    "else:\n",
    "    print(\"We don't make that\")"
   ]
  },
  {
   "cell_type": "markdown",
   "metadata": {},
   "source": [
    "## .fromkeys(dict, value), sets all the values of a dictionary"
   ]
  },
  {
   "cell_type": "code",
   "execution_count": 47,
   "metadata": {},
   "outputs": [
    {
     "name": "stdout",
     "output_type": "stream",
     "text": [
      "{'current_score': 0, 'high_score': 0, 'number_of_lives': 0, 'items_in_inventory': 0, 'power_ups': 0, 'ammo': 0, 'enemies_on_screen': 0, 'enemy_kills': 0, 'enemy_kill_streaks': 0, 'minutes_played': 0, 'notifications': 0, 'achievements': 0}\n"
     ]
    }
   ],
   "source": [
    "game_properties = [\"current_score\", \n",
    "                   \"high_score\", \n",
    "                   \"number_of_lives\", \n",
    "                   \"items_in_inventory\", \n",
    "                   \"power_ups\", \"ammo\", \n",
    "                   \"enemies_on_screen\", \n",
    "                   \"enemy_kills\", \n",
    "                   \"enemy_kill_streaks\", \n",
    "                   \"minutes_played\", \n",
    "                   \"notifications\", \n",
    "                   \"achievements\"]\n",
    "initial_game_state = {}.fromkeys(game_properties, 0)\n",
    "print(initial_game_state) #copies the LIST game properties and sets the values to zero in this dictionary"
   ]
  },
  {
   "cell_type": "markdown",
   "metadata": {},
   "source": [
    "## Iterating over dictionaries"
   ]
  },
  {
   "cell_type": "markdown",
   "metadata": {},
   "source": [
    "### .values() for values"
   ]
  },
  {
   "cell_type": "code",
   "execution_count": 53,
   "metadata": {},
   "outputs": [
    {
     "name": "stdout",
     "output_type": "stream",
     "text": [
      "Colt\n",
      "True\n",
      "4\n",
      "python\n",
      "False\n",
      "Colt's favorite number\n"
     ]
    }
   ],
   "source": [
    "# .values()\n",
    "for values in instructor.values():\n",
    "    print(values)"
   ]
  },
  {
   "cell_type": "markdown",
   "metadata": {},
   "source": [
    "### .keys() for keys"
   ]
  },
  {
   "cell_type": "code",
   "execution_count": 55,
   "metadata": {},
   "outputs": [
    {
     "name": "stdout",
     "output_type": "stream",
     "text": [
      "name\n",
      "owns_dog\n",
      "num_courses\n",
      "favorite_language\n",
      "is_hilarious\n",
      "44\n"
     ]
    }
   ],
   "source": [
    "# .keys()\n",
    "for key in instructor.keys():\n",
    "    print(key)"
   ]
  },
  {
   "cell_type": "markdown",
   "metadata": {},
   "source": [
    "### .items() for both keys and values"
   ]
  },
  {
   "cell_type": "code",
   "execution_count": 58,
   "metadata": {},
   "outputs": [
    {
     "name": "stdout",
     "output_type": "stream",
     "text": [
      "('name', 'Colt')\n",
      "('owns_dog', True)\n",
      "('num_courses', 4)\n",
      "('favorite_language', 'python')\n",
      "('is_hilarious', False)\n",
      "(44, \"Colt's favorite number\")\n"
     ]
    }
   ],
   "source": [
    "# .items()\n",
    "for items in instructor.items(): #returns both values\n",
    "    print(items) "
   ]
  },
  {
   "cell_type": "markdown",
   "metadata": {},
   "source": [
    "## output keys and values"
   ]
  },
  {
   "cell_type": "code",
   "execution_count": 60,
   "metadata": {},
   "outputs": [
    {
     "name": "stdout",
     "output_type": "stream",
     "text": [
      "key is name, value is Colt\n",
      "key is owns_dog, value is True\n",
      "key is num_courses, value is 4\n",
      "key is favorite_language, value is python\n",
      "key is is_hilarious, value is False\n",
      "key is 44, value is Colt's favorite number\n"
     ]
    }
   ],
   "source": [
    "for key,value in instructor.items():\n",
    "    print(f'key is {key}, value is {value}') #prints both values"
   ]
  },
  {
   "cell_type": "markdown",
   "metadata": {},
   "source": [
    "## add values from a dictionary"
   ]
  },
  {
   "cell_type": "code",
   "execution_count": 66,
   "metadata": {},
   "outputs": [
    {
     "name": "stdout",
     "output_type": "stream",
     "text": [
      "436.74\n",
      "436.74\n",
      "436.74\n"
     ]
    }
   ],
   "source": [
    "total_donations = 0\n",
    "donations = dict(sam=25.0, lena=88.99, chuck=13.0, linus=99.5, stan=150.0, lisa=50.25, harrison=10.0)\n",
    "# classic solution\n",
    "for value in donations.values():\n",
    "    total_donations += value\n",
    "print(total_donations)\n",
    "# using lambdas\n",
    "total_donations = 0\n",
    "total_donations = sum(donation for donation in donations.values())\n",
    "print(total_donations)\n",
    "# advanced solution\n",
    "total_donations = 0\n",
    "total_donations = sum(donations.values())\n",
    "print(total_donations)"
   ]
  },
  {
   "cell_type": "markdown",
   "metadata": {},
   "source": [
    "## using in"
   ]
  },
  {
   "cell_type": "code",
   "execution_count": 68,
   "metadata": {},
   "outputs": [
    {
     "name": "stdout",
     "output_type": "stream",
     "text": [
      "Colt\n",
      "python\n",
      "18 is in a values\n"
     ]
    }
   ],
   "source": [
    "if 'name' in instructor:\n",
    "    print(instructor['name'])\n",
    "if 'python' in instructor.values():\n",
    "    print(instructor['favorite_language'])\n",
    "if 18 in a.values():\n",
    "    print('18 is in a values')"
   ]
  },
  {
   "cell_type": "markdown",
   "metadata": {},
   "source": [
    "## copy dictionary, then move an item to the new one"
   ]
  },
  {
   "cell_type": "code",
   "execution_count": 76,
   "metadata": {},
   "outputs": [
    {
     "name": "stdout",
     "output_type": "stream",
     "text": [
      "{'croissant': 19, 'bagel': 4, 'muffin': 8, 'cookie': 18}\n"
     ]
    }
   ],
   "source": [
    "inventory = {'croissant': 19, 'bagel': 4, 'muffin': 8, 'cake': 1}\n",
    "stock_list = inventory.copy()\n",
    "boi = {\n",
    "        \"cookie\" : 18 \n",
    "    }\n",
    "stock_list.update(boi)\n",
    "stock_list.pop('cake') # takes cake\n",
    "print(stock_list)"
   ]
  },
  {
   "cell_type": "code",
   "execution_count": 77,
   "metadata": {},
   "outputs": [
    {
     "data": {
      "text/plain": [
       "{'croissant': 19, 'bagel': 4, 'muffin': 8, 'cake': 1}"
      ]
     },
     "execution_count": 77,
     "metadata": {},
     "output_type": "execute_result"
    }
   ],
   "source": [
    "inventory"
   ]
  },
  {
   "cell_type": "code",
   "execution_count": null,
   "metadata": {},
   "outputs": [],
   "source": []
  }
 ],
 "metadata": {
  "kernelspec": {
   "display_name": "Python 3",
   "language": "python",
   "name": "python3"
  },
  "language_info": {
   "codemirror_mode": {
    "name": "ipython",
    "version": 3
   },
   "file_extension": ".py",
   "mimetype": "text/x-python",
   "name": "python",
   "nbconvert_exporter": "python",
   "pygments_lexer": "ipython3",
   "version": "3.8.3"
  }
 },
 "nbformat": 4,
 "nbformat_minor": 4
}

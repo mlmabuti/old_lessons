{
 "cells": [
  {
   "cell_type": "markdown",
   "metadata": {},
   "source": [
    "NUMERICAL METHODS"
   ]
  },
  {
   "cell_type": "code",
   "execution_count": 20,
   "metadata": {},
   "outputs": [
    {
     "data": {
      "text/latex": [
       "$\\displaystyle - 2 \\left(3 x^{2} + 3 x + 1\\right)$"
      ],
      "text/plain": [
       "<IPython.core.display.Math object>"
      ]
     },
     "metadata": {},
     "output_type": "display_data"
    },
    {
     "data": {
      "text/plain": [
       "True"
      ]
     },
     "execution_count": 20,
     "metadata": {},
     "output_type": "execute_result"
    }
   ],
   "source": [
    "from IPython.display import display,Math\n",
    "import sympy as sp\n",
    "\n",
    "#SW1 FINITE DIFFERENCE\n",
    "\n",
    "def disp(expr):\n",
    "    display(Math(sp.latex(expr)))\n",
    "\n",
    "x = sp.symbols('x')\n",
    "\n",
    "expr = -3-2*x**3\n",
    "\n",
    "def finite_difference(g):\n",
    "    return g.subs(x,x+1)-g\n",
    "\n",
    "disp(sp.factor(finite_difference(expr)))\n",
    "\n",
    "ANSWER = -2*(3*x**2+3*x+1)\n",
    "\n",
    "finite_difference(expr).equals(ANSWER)\n",
    "\n",
    "#CORRECT"
   ]
  },
  {
   "cell_type": "code",
   "execution_count": 83,
   "metadata": {},
   "outputs": [
    {
     "data": {
      "text/latex": [
       "$\\displaystyle 6 x^{2} + 6 x + 2$"
      ],
      "text/plain": [
       "<IPython.core.display.Math object>"
      ]
     },
     "metadata": {},
     "output_type": "display_data"
    },
    {
     "data": {
      "text/latex": [
       "$\\displaystyle 12 x + 12$"
      ],
      "text/plain": [
       "<IPython.core.display.Math object>"
      ]
     },
     "metadata": {},
     "output_type": "display_data"
    },
    {
     "data": {
      "text/latex": [
       "$\\displaystyle 12$"
      ],
      "text/plain": [
       "<IPython.core.display.Math object>"
      ]
     },
     "metadata": {},
     "output_type": "display_data"
    }
   ],
   "source": [
    "#SW2 HIGHER DIFFERENCES\n",
    "\n",
    "expr3 = 2*x**3\n",
    "\n",
    "ANSWER2 = 6*x**2+6*x+2\n",
    "\n",
    "finite_difference(expr3).equals(6*x**2+6*x+2)\n",
    "\n",
    "sp.expand(finite_difference(expr3))\n",
    "\n",
    "def higher_differences(expr, order):\n",
    "    for i in range(0,3):\n",
    "        disp(sp.expand(finite_difference(expr)))\n",
    "        expr = finite_difference(expr)\n",
    "\n",
    "higher_differences(expr3,3)\n",
    "\n",
    "#CORRECT"
   ]
  },
  {
   "cell_type": "code",
   "execution_count": 5,
   "metadata": {},
   "outputs": [
    {
     "name": "stdout",
     "output_type": "stream",
     "text": [
      "[5, 3, -11, -49, -123, -245]\n",
      "[-2, -14, -38, -74, -122]\n",
      "[-12, -24, -36, -48]\n",
      "[-12, -12, -12]\n",
      "[0, 0]\n"
     ]
    }
   ],
   "source": [
    "#SW3 MANUALLY TRYING TO FIGURE IT OUT\n",
    "\n",
    "fx = [5,3,-11,-49,-123,-245]\n",
    "__fx = [0,1,8,27,64,125,216]\n",
    "__fx = [3,9,19,33,51]\n",
    "\n",
    "print(fx)\n",
    "\n",
    "_1fx = []\n",
    "\n",
    "for i in range(len(fx)-1):\n",
    "    _1fx.append(fx[i+1]-fx[i])\n",
    "\n",
    "print(_1fx)\n",
    "\n",
    "_2fx = []\n",
    "\n",
    "for i in range(len(_1fx)-1):\n",
    "    _2fx.append(_1fx[i+1]-_1fx[i])\n",
    "\n",
    "print(_2fx)\n",
    "\n",
    "_3fx = []\n",
    "\n",
    "for i in range(len(_2fx)-1):\n",
    "    _3fx.append(_2fx[i+1]-_2fx[i])\n",
    "\n",
    "print(_3fx)\n",
    "\n",
    "_4fx = []\n",
    "\n",
    "for i in range(len(_3fx)-1):\n",
    "    _4fx.append(_3fx[i+1]-_3fx[i])\n",
    "\n",
    "print(_4fx)\n"
   ]
  },
  {
   "cell_type": "code",
   "execution_count": 25,
   "metadata": {},
   "outputs": [
    {
     "name": "stdout",
     "output_type": "stream",
     "text": [
      "f(x) = [5, 3, -11, -49, -123, -245]\n",
      "1 f(x) = [-2, -14, -38, -74, -122]\n",
      "2 f(x) = [-12, -24, -36, -48]\n",
      "3 f(x) = [-12, -12, -12]\n",
      "4 f(x) = [0, 0]\n"
     ]
    }
   ],
   "source": [
    "#SW3 DIFFERENCE TABLE   \n",
    "def diff_table(fx):\n",
    "    x = 1\n",
    "    print('f(x) = ',end=\"\")\n",
    "    print(fx)\n",
    "    while x:\n",
    "        _fx = []\n",
    "        for i in range(len(fx)-1):\n",
    "            _fx.append(fx[i+1]-fx[i])\n",
    "        fx = _fx\n",
    "        print(x, 'f(x) = ',end=\"\")\n",
    "        print(fx)\n",
    "        x += 1\n",
    "        if (x > 3 and fx[1] == 0 or fx[1] == 1):\n",
    "            break\n",
    "\n",
    "diff_table(fx)"
   ]
  },
  {
   "cell_type": "code",
   "execution_count": 33,
   "metadata": {},
   "outputs": [
    {
     "name": "stdout",
     "output_type": "stream",
     "text": [
      "[-1, -1, 0, 3, 9, 19, 34]\n",
      "[0, 1, 3, 6, 10, 15]\n",
      "[1, 2, 3, 4, 5]\n",
      "[1, 1, 1, 1]\n"
     ]
    }
   ],
   "source": [
    "#SW4 MANUALLY TRYING TO FIGURE IT OUT\n",
    "\n",
    "fx = [-1,-1,0,3,9,19,34]\n",
    "\n",
    "print(fx)\n",
    "def find_term():\n",
    "    _1fx = []\n",
    "\n",
    "    for i in range(len(fx)-1):\n",
    "        _1fx.append(fx[i+1]-fx[i])\n",
    "\n",
    "    print(_1fx)\n",
    "\n",
    "    _2fx = []\n",
    "\n",
    "    for i in range(len(_1fx)-1):\n",
    "        _2fx.append(_1fx[i+1]-_1fx[i])\n",
    "\n",
    "    print(_2fx)\n",
    "\n",
    "    _3fx = []\n",
    "\n",
    "    for i in range(len(_2fx)-1):\n",
    "        _3fx.append(_2fx[i+1]-_2fx[i])\n",
    "\n",
    "    print(_3fx)\n",
    "\n",
    "find_term()\n",
    "\n",
    "#to find out how many times you have to fill the table to find the next term, target term - array length\n",
    "#WEAKNESS, MAY NOT WORK FOR 5+ DIFFERENCES"
   ]
  },
  {
   "cell_type": "code",
   "execution_count": 64,
   "metadata": {},
   "outputs": [
    {
     "name": "stdout",
     "output_type": "stream",
     "text": [
      "f(x) = [-1, -1, 0, 3, 9, 19, 34]\n",
      "1 f(x) = [0, 1, 3, 6, 10, 15]\n",
      "2 f(x) = [1, 2, 3, 4, 5]\n",
      "3 f(x) = [1, 1, 1, 1]\n",
      "f(x) = [-1, -1, 0, 3, 9, 19, 34, 55]\n",
      "1 f(x) = [0, 1, 3, 6, 10, 15, 21]\n",
      "2 f(x) = [1, 2, 3, 4, 5, 6]\n",
      "3 f(x) = [1, 1, 1, 1, 1]\n"
     ]
    },
    {
     "data": {
      "text/plain": [
       "[-1, -1, 0, 3, 9, 19, 34, 55, 83]"
      ]
     },
     "execution_count": 64,
     "metadata": {},
     "output_type": "execute_result"
    }
   ],
   "source": [
    "#SW4\n",
    "\n",
    "fx = [-1,-1,0,3,9,19,34]\n",
    "\n",
    "def find_term(fx, term):\n",
    "    term -= len(fx)\n",
    "    for i in range(term):\n",
    "        px = fx\n",
    "        x = 1\n",
    "        a = fx[len(fx)-1]\n",
    "        print('f(x) = ',end=\"\")\n",
    "        print(px)\n",
    "        while x:\n",
    "            _px = []\n",
    "            for i in range(len(px)-1):\n",
    "                _px.append(px[i+1]-px[i])\n",
    "            px = _px\n",
    "            print(x, 'f(x) = ',end=\"\")\n",
    "            print(px)\n",
    "            x += 1\n",
    "            a += _px[len(px)-1] \n",
    "            if (px[len(px)-1] == 0 or px[len(px)-1] == 1 and x > 2):\n",
    "                break     \n",
    "        fx.append(a)\n",
    "find_term(fx,9)\n",
    "fx"
   ]
  },
  {
   "cell_type": "code",
   "execution_count": null,
   "metadata": {},
   "outputs": [],
   "source": []
  }
 ],
 "metadata": {
  "interpreter": {
   "hash": "31f2aee4e71d21fbe5cf8b01ff0e069b9275f58929596ceb00d14d90e3e16cd6"
  },
  "kernelspec": {
   "display_name": "Python 3.7.3 64-bit",
   "name": "python3"
  },
  "language_info": {
   "codemirror_mode": {
    "name": "ipython",
    "version": 3
   },
   "file_extension": ".py",
   "mimetype": "text/x-python",
   "name": "python",
   "nbconvert_exporter": "python",
   "pygments_lexer": "ipython3",
   "version": "3.7.3"
  },
  "orig_nbformat": 4
 },
 "nbformat": 4,
 "nbformat_minor": 2
}

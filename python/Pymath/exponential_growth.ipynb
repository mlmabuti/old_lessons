{
 "cells": [
  {
   "cell_type": "code",
   "execution_count": 2,
   "metadata": {},
   "outputs": [],
   "source": [
    "from IPython.display import display,Math\n",
    "import numpy as np\n",
    "e = 2.7182818284590452353602874713527"
   ]
  },
  {
   "cell_type": "code",
   "execution_count": 49,
   "metadata": {},
   "outputs": [
    {
     "data": {
      "text/latex": [
       "$\\displaystyle 680e^{0.128} = 1775.95$"
      ],
      "text/plain": [
       "<IPython.core.display.Math object>"
      ]
     },
     "metadata": {},
     "output_type": "display_data"
    }
   ],
   "source": [
    "#SOLVING FOR FINAL POPULATION\n",
    "P = 680\n",
    "r = .12\n",
    "t = 8\n",
    "\n",
    "A = P*(e**(r*t))\n",
    "display(Math('%ge^{%g%g} = %g'%(P,r,t,A)))"
   ]
  },
  {
   "cell_type": "code",
   "execution_count": 51,
   "metadata": {},
   "outputs": [
    {
     "data": {
      "text/latex": [
       "$\\displaystyle 1.24e+06(e^{0.08(30)})^{-1} = 112490$"
      ],
      "text/plain": [
       "<IPython.core.display.Math object>"
      ]
     },
     "metadata": {},
     "output_type": "display_data"
    }
   ],
   "source": [
    "#SOLVING FOR INITIAL POPULATION\n",
    "A = 1240000\n",
    "r = 0.08\n",
    "t = 30\n",
    "         \n",
    "P = A*(e**(r*t))**(-1)\n",
    "display(Math('%g(e^{%g(%g)})^{-1} = %g'%(A,r,t,P)))\n"
   ]
  },
  {
   "cell_type": "code",
   "execution_count": 59,
   "metadata": {},
   "outputs": [
    {
     "data": {
      "text/latex": [
       "$\\displaystyle \\frac{\\ln{\\frac{786000}{247000}}}{17} = 0.0680923$"
      ],
      "text/plain": [
       "<IPython.core.display.Math object>"
      ]
     },
     "metadata": {},
     "output_type": "display_data"
    },
    {
     "data": {
      "text/latex": [
       "$\\displaystyle 0.0680923 \\times 100 = 6.8$"
      ],
      "text/plain": [
       "<IPython.core.display.Math object>"
      ]
     },
     "metadata": {},
     "output_type": "display_data"
    }
   ],
   "source": [
    "#SOLVING FOR RATE\n",
    "A = 786000\n",
    "P = 247000\n",
    "t = 17\n",
    "\n",
    "r = np.log((A/P))/t\n",
    "display(Math('\\\\frac{\\\\ln{\\\\frac{%g}{%g}}}{%g} = %g'%(A,P,t,r)))\n",
    "display(Math('%g \\\\times %g = %g'%(r,100,round(r*100,1))))"
   ]
  },
  {
   "cell_type": "code",
   "execution_count": 21,
   "metadata": {},
   "outputs": [
    {
     "data": {
      "text/latex": [
       "$\\displaystyle \\frac{\\ln{\\frac{731093}{525600}}}{0.03} = 11$"
      ],
      "text/plain": [
       "<IPython.core.display.Math object>"
      ]
     },
     "metadata": {},
     "output_type": "display_data"
    }
   ],
   "source": [
    "#SOLVING FOR TIME\n",
    "A = 731093\n",
    "P = 525600\n",
    "r = 0.03\n",
    "\n",
    "t = np.log(A/P)/r\n",
    "display(Math('\\\\frac{\\\\ln{\\\\frac{%g}{%g}}}{%g} = %g'%(A,P,r,t)))"
   ]
  },
  {
   "cell_type": "code",
   "execution_count": 41,
   "metadata": {},
   "outputs": [
    {
     "data": {
      "text/plain": [
       "125.0"
      ]
     },
     "execution_count": 41,
     "metadata": {},
     "output_type": "execute_result"
    }
   ],
   "source": [
    "625/5"
   ]
  },
  {
   "cell_type": "code",
   "execution_count": null,
   "metadata": {},
   "outputs": [],
   "source": []
  },
  {
   "cell_type": "code",
   "execution_count": null,
   "metadata": {},
   "outputs": [],
   "source": []
  }
 ],
 "metadata": {
  "kernelspec": {
   "display_name": "Python 3",
   "language": "python",
   "name": "python3"
  },
  "language_info": {
   "codemirror_mode": {
    "name": "ipython",
    "version": 3
   },
   "file_extension": ".py",
   "mimetype": "text/x-python",
   "name": "python",
   "nbconvert_exporter": "python",
   "pygments_lexer": "ipython3",
   "version": "3.8.3"
  }
 },
 "nbformat": 4,
 "nbformat_minor": 4
}

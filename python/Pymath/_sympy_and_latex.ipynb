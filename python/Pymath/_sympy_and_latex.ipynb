{
 "cells": [
  {
   "cell_type": "code",
   "execution_count": null,
   "metadata": {},
   "outputs": [],
   "source": [
    "import sympy as sp\n",
    "import numpy as np\n",
    "from IPython.display import display,Math\n",
    "from sympy import symbols,latex,exp,sympify,simplify\n",
    "sp.init_printing()"
   ]
  },
  {
   "cell_type": "markdown",
   "metadata": {},
   "source": [
    "# LateX exercise"
   ]
  },
  {
   "cell_type": "code",
   "execution_count": null,
   "metadata": {},
   "outputs": [],
   "source": [
    "display(Math('4x+5y-8z = 17'))"
   ]
  },
  {
   "cell_type": "code",
   "execution_count": null,
   "metadata": {},
   "outputs": [],
   "source": [
    "display(Math('\\\\sin(2\\\\pi ft+\\\\theta)'))"
   ]
  },
  {
   "cell_type": "code",
   "execution_count": null,
   "metadata": {},
   "outputs": [],
   "source": [
    "display(Math('e=mc^2'))"
   ]
  },
  {
   "cell_type": "code",
   "execution_count": null,
   "metadata": {},
   "outputs": [],
   "source": [
    "display(Math('\\\\frac{4+5x^2}{(1+x)(1-x)}'))"
   ]
  },
  {
   "cell_type": "markdown",
   "metadata": {},
   "source": [
    "# Sympy"
   ]
  },
  {
   "cell_type": "markdown",
   "metadata": {},
   "source": [
    "## >Declaring symbol variables"
   ]
  },
  {
   "cell_type": "code",
   "execution_count": null,
   "metadata": {},
   "outputs": [],
   "source": [
    "mu,alpha,sigma = symbols('mu,alpha,sigma') # allows these variables to represent the symbols\n",
    "expr = exp( (mu-alpha)**2 / (2*sigma**2)) #.exp method will raise the equation\n",
    "display(expr)"
   ]
  },
  {
   "cell_type": "code",
   "execution_count": null,
   "metadata": {},
   "outputs": [],
   "source": [
    "hello = symbols('hello') # defines hello as a symbol or a text string\n",
    "hello/3"
   ]
  },
  {
   "cell_type": "code",
   "execution_count": null,
   "metadata": {},
   "outputs": [],
   "source": [
    "x,y = symbols('x,y') # allows x and y to represent symbols x and y\n",
    "expr = x + 4 + 2 * y\n",
    "expr.subs({x:-4,y:3}) # .subs method will substitute # use dictionary to substitute"
   ]
  },
  {
   "cell_type": "code",
   "execution_count": null,
   "metadata": {},
   "outputs": [],
   "source": [
    "latex(3/x) # latex() converts equations into latex string code"
   ]
  },
  {
   "cell_type": "code",
   "execution_count": null,
   "metadata": {},
   "outputs": [],
   "source": [
    "expr = 3/x\n",
    "display(Math(latex(expr)))"
   ]
  },
  {
   "cell_type": "code",
   "execution_count": null,
   "metadata": {},
   "outputs": [],
   "source": [
    "latex(1/2) # computes the equation because it has no symbol/variable and converts into string"
   ]
  },
  {
   "cell_type": "code",
   "execution_count": null,
   "metadata": {},
   "outputs": [],
   "source": [
    "latex(sympify('1/2')) # .sympify converts the string into a sympy object"
   ]
  },
  {
   "cell_type": "code",
   "execution_count": null,
   "metadata": {},
   "outputs": [],
   "source": [
    "# my solution\n",
    "for x in range(-2,3):\n",
    "    equation = x**2+4\n",
    "    display(Math('\\\\text {With } x = %g: \\\\quad\\\\Rightarrow \\\\quad %g^2+4=%g'%(x,x,equation)))"
   ]
  },
  {
   "cell_type": "code",
   "execution_count": null,
   "metadata": {},
   "outputs": [],
   "source": [
    "# mike's solution\n",
    "x = symbols('x') # convert x into a symbol before you can use the subs method\n",
    "expr = x**2+4\n",
    "for i in range(-2,3):\n",
    "    \n",
    "    display(Math('\\\\text {With } x = %g: \\\\quad\\\\Rightarrow \\\\quad %g^2+4=%g'%(i,i,expr.subs({x:i}))))"
   ]
  },
  {
   "cell_type": "code",
   "execution_count": null,
   "metadata": {},
   "outputs": [],
   "source": [
    "# mike's other solution with a cleaner code\n",
    "for i in range(-2,3):\n",
    "    ans = (x+4).subs(x,i**2) # the entire equation (.subs substitutes x into i**2 for every loop)\n",
    "    display(Math('\\\\text {With } x = %g: \\\\quad\\\\Rightarrow \\\\quad %g^2+4=%g'%(i,i,ans)))"
   ]
  },
  {
   "cell_type": "markdown",
   "metadata": {},
   "source": [
    "## >The law of exponents"
   ]
  },
  {
   "cell_type": "code",
   "execution_count": null,
   "metadata": {},
   "outputs": [],
   "source": [
    "x,y,z = symbols('x,y,z')\n",
    "\n",
    "ex = x**y * x**z\n",
    "\n",
    "display(ex)\n",
    "display( simplify(ex) )"
   ]
  },
  {
   "cell_type": "code",
   "execution_count": null,
   "metadata": {},
   "outputs": [],
   "source": [
    "expr1 = x**y * x**z\n",
    "expr2 = x**y / x**z\n",
    "expr3 = x**y * y**z\n",
    "\n",
    "display(Math('%s = %s' %( latex(expr1),latex(simplify(expr1)) ) ))\n",
    "display(Math('%s = %s' %( latex(expr2),latex(simplify(expr2)) ) ))\n",
    "display(Math('%s = %s' %( latex(expr3),latex(simplify(expr3)) ) ))\n"
   ]
  },
  {
   "cell_type": "code",
   "execution_count": null,
   "metadata": {},
   "outputs": [],
   "source": []
  }
 ],
 "metadata": {
  "kernelspec": {
   "display_name": "Python 3",
   "language": "python",
   "name": "python3"
  },
  "language_info": {
   "codemirror_mode": {
    "name": "ipython",
    "version": 3
   },
   "file_extension": ".py",
   "mimetype": "text/x-python",
   "name": "python",
   "nbconvert_exporter": "python",
   "pygments_lexer": "ipython3",
   "version": "3.8.3"
  }
 },
 "nbformat": 4,
 "nbformat_minor": 4
}

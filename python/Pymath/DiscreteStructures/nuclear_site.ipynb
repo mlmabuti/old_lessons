{
 "cells": [
  {
   "cell_type": "code",
   "execution_count": 1,
   "metadata": {},
   "outputs": [
    {
     "name": "stdout",
     "output_type": "stream",
     "text": [
      "[[ 0.5  -0.5 ]\n",
      " [-0.25  0.75]]\n",
      "[[0.5, -0.5], [-0.25, 0.75]]\n",
      "['[0.5, -0.5]', '[-0.25, 0.75]']\n"
     ]
    },
    {
     "data": {
      "text/latex": [
       "$\\displaystyle \\left[\\begin{matrix}\\frac{1}{2} & - \\frac{1}{2}\\\\- \\frac{1}{4} & \\frac{3}{4}\\end{matrix}\\right]$"
      ],
      "text/plain": [
       "<IPython.core.display.Math object>"
      ]
     },
     "metadata": {},
     "output_type": "display_data"
    }
   ],
   "source": [
    "import numpy as np\n",
    "import sympy as sp \n",
    "#import math \n",
    "from numpy.linalg import inv\n",
    "from IPython.display import display, Math\n",
    "sp.init_printing()\n",
    "\n",
    "m = np.matrix([[3,2],[1,2]]) \n",
    "m2 = np.matrix([[1/2,-1/2],[-1/4,3/4]]) \n",
    "#sp.sympify(m*m2)\n",
    "print(m2)\n",
    "# convert first the npmatrix into a list\n",
    "lm = np.matrix.tolist(m2)\n",
    "print(lm)\n",
    "\n",
    "# turn the list of int into a list of strings\n",
    "lm_string = [str(i) for i in lm]\n",
    "\n",
    "print(lm_string)\n",
    "\n",
    "# print into afraction\n",
    "display(Math(sp.latex(sp.Matrix(sp.sympify(lm_string,rational=True)))))\n"
   ]
  },
  {
   "cell_type": "code",
   "execution_count": 7,
   "metadata": {},
   "outputs": [
    {
     "data": {
      "text/plain": [
       "matrix([[ 0.5 , -0.5 ],\n",
       "        [-0.25,  0.75]])"
      ]
     },
     "execution_count": 7,
     "metadata": {},
     "output_type": "execute_result"
    }
   ],
   "source": [
    "#np.set_printoptions(formatter={'all':lambda x: str(fractions.Fraction(x).limit_denominator())})\n",
    "#a = np.linalg.inv(m)\n",
    "#display(Math(sp.latex(sp.sympify(m2, rational=True))))\n",
    "\n",
    "# INVERSE OF A MATRIX\n",
    "inv(m)"
   ]
  },
  {
   "cell_type": "code",
   "execution_count": 3,
   "metadata": {},
   "outputs": [
    {
     "data": {
      "text/latex": [
       "$\\displaystyle \\frac{3 x^{2}}{2}$"
      ],
      "text/plain": [
       "<IPython.core.display.Math object>"
      ]
     },
     "metadata": {},
     "output_type": "display_data"
    }
   ],
   "source": [
    "from IPython.display import display, Math\n",
    "import sympy as sp \n",
    "display(Math(sp.latex(sp.integrate('3*x'))))"
   ]
  },
  {
   "cell_type": "code",
   "execution_count": null,
   "metadata": {},
   "outputs": [],
   "source": []
  }
 ],
 "metadata": {
  "interpreter": {
   "hash": "e7370f93d1d0cde622a1f8e1c04877d8463912d04d973331ad4851f04de6915a"
  },
  "kernelspec": {
   "display_name": "Python 3.9.7 64-bit",
   "name": "python3"
  },
  "language_info": {
   "codemirror_mode": {
    "name": "ipython",
    "version": 3
   },
   "file_extension": ".py",
   "mimetype": "text/x-python",
   "name": "python",
   "nbconvert_exporter": "python",
   "pygments_lexer": "ipython3",
   "version": "3.9.7"
  },
  "orig_nbformat": 4
 },
 "nbformat": 4,
 "nbformat_minor": 2
}

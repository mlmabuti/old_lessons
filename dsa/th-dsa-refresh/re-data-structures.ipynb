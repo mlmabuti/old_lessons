{
 "cells": [
  {
   "cell_type": "code",
   "execution_count": null,
   "metadata": {},
   "outputs": [],
   "source": [
    "# data struc, a storage format. minimum ops; access/read, search, insert, delete\n",
    "\n",
    "# homogenous structures; swift, java, c++, etc.\n",
    "# heterogenous structures; python, js\n",
    "\n",
    "# contiguous structures; stored in blocks with no gaps.\n",
    "# non-contiguous structures; stores a reference/pointer\n",
    "\n",
    "# insert, store anywhere. append, store at the end. push, store at the beginning. pop, remove from the end.\n",
    "\n",
    "# growth pattern python; 0,4,8,16,25,35,46.."
   ]
  },
  {
   "cell_type": "code",
   "execution_count": 2,
   "metadata": {},
   "outputs": [
    {
     "name": "stdout",
     "output_type": "stream",
     "text": [
      "True\n"
     ]
    }
   ],
   "source": [
    "# short linear search on array \n",
    "l = [1,2,3,4,5,6]\n",
    "\n",
    "if 1 in l: print(True)"
   ]
  },
  {
   "cell_type": "code",
   "execution_count": 3,
   "metadata": {},
   "outputs": [],
   "source": [
    "# node\n",
    "class Node:\n",
    "    data = None \n",
    "    next_node = None \n",
    "\n",
    "    def __init__(self, data):\n",
    "        self.data = data\n",
    "    \n",
    "    def __repr__(self):\n",
    "        return \"<Node data: %s>\" % self.data\n",
    "\n",
    "# n = Node(19)\n",
    "# n # 19\n",
    "\n",
    "# n.next_node = Node(10)\n",
    "# n.next_node # 10"
   ]
  },
  {
   "cell_type": "code",
   "execution_count": 4,
   "metadata": {},
   "outputs": [],
   "source": [
    "# code singly linked list here. because arrays suck at inserting and deleting.\n",
    "\n",
    "class LinkedList:\n",
    "    def __init__(self):\n",
    "        self.head = None \n",
    "\n",
    "    def __repr__(self): # stores node data and returns em as list of strings\n",
    "        l = []\n",
    "        current = self.head\n",
    "        while current: # O(n)\n",
    "            if current == self.head:\n",
    "                l.append(\"[Head:%s]\" % current.data)\n",
    "            elif current.next_node == None:\n",
    "                l.append(\"[Tail:%s]\" % current.data)\n",
    "            else:\n",
    "                l.append(\"[%s]\" % current.data)\n",
    "            current = current.next_node\n",
    "        return \"->\".join(l) # cool arrow\n",
    "\n",
    "    def is_empty(self):\n",
    "        return self.head == None # true if list is empty\n",
    "\n",
    "    def size(self): # O(n)\n",
    "        current = self.head \n",
    "        count = 0 \n",
    "\n",
    "        while current: # while != none, which means while not tail\n",
    "            count += 1 \n",
    "            current = current.next_node\n",
    "\n",
    "        return count\n",
    "    \n",
    "    def append(self, node_data): # O(n)\n",
    "        node = Node(node_data)\n",
    "        if self.head == None: \n",
    "            self.head = node\n",
    "            self.head.next_node = None\n",
    "\n",
    "        else:\n",
    "            current = self.head\n",
    "            while current:\n",
    "                if current.next_node == None: \n",
    "                    current.next_node = node\n",
    "                    current.next_node.next_node = None\n",
    "                current = current.next_node\n",
    "    \n",
    "    def prepend(self, node_data): # O(1)\n",
    "        node = Node(node_data)\n",
    "        node.next_node = self.head\n",
    "        self.head = node\n",
    "    \n",
    "    def delete(self, node_data): # O(n)\n",
    "        current = self.head\n",
    "        while current:\n",
    "            if current.next_node.data == node_data:\n",
    "                current.next_node = current.next_node.next_node\n",
    "                return\n",
    "            current = current.next_node\n",
    "    \n",
    "    # write insert\n",
    "    def insert(self, node_data, index): # O(n)\n",
    "        node = Node(node_data)\n",
    "        if index == 0:\n",
    "            node.next_node = self.head\n",
    "            self.head = node\n",
    "        elif index > 0:\n",
    "            i = 0\n",
    "            current = self.head\n",
    "            while i < index:\n",
    "                current = current.next_node\n",
    "                i += 1\n",
    "            node.next_node = current.next_node\n",
    "            current.next_node = node\n",
    "        else:\n",
    "            print(\"Invalid index\")"
   ]
  },
  {
   "cell_type": "code",
   "execution_count": 9,
   "metadata": {},
   "outputs": [
    {
     "name": "stdout",
     "output_type": "stream",
     "text": [
      "\n",
      "test for append(1,2,3,4)\n",
      "[Head:1]->[2]->[3]->[Tail:4]\n",
      "\n",
      "test for prepend 0 append 5\n",
      "[Head:0]->[1]->[2]->[3]->[4]->[Tail:5]\n",
      "\n",
      "test for delete 2\n",
      "[Head:0]->[1]->[3]->[4]->[Tail:5]\n",
      "\n",
      "test for prepend 9,8 append 10\n",
      "[Head:8]->[9]->[Tail:10]\n",
      "\n",
      "test for insert at index 0\n",
      "[Head:7]->[8]->[9]->[Tail:10]\n",
      "\n",
      "test for insert at index 2\n",
      "[Head:7]->[8]->[9]->[11]->[Tail:10]\n"
     ]
    },
    {
     "data": {
      "text/plain": [
       "<Node data: 7>"
      ]
     },
     "execution_count": 9,
     "metadata": {},
     "output_type": "execute_result"
    }
   ],
   "source": [
    "ll = LinkedList()\n",
    "\n",
    "for i in range(1, 5):\n",
    "    ll.append(i)\n",
    "\n",
    "print(\"\\ntest for append(1,2,3,4)\")\n",
    "print(ll)\n",
    "# print(ll.size())\n",
    "\n",
    "ll.prepend(0)\n",
    "ll.append(5)\n",
    "print(\"\\ntest for prepend 0 append 5\")\n",
    "print(ll)\n",
    "ll.size()\n",
    "\n",
    "ll.delete(2)\n",
    "print(\"\\ntest for delete 2\")\n",
    "print(ll)\n",
    "\n",
    "ll2 = LinkedList()\n",
    "ll2.prepend(9)\n",
    "ll2.prepend(8)\n",
    "ll2.append(10)\n",
    "print(\"\\ntest for prepend 9,8 append 10\")\n",
    "print(ll2)\n",
    "\n",
    "ll2.insert(7,0)\n",
    "print(\"\\ntest for insert at index 0\")\n",
    "print(ll2)\n",
    "\n",
    "ll2.insert(11,2)\n",
    "print(\"\\ntest for insert at index 2\")\n",
    "print(ll2)"
   ]
  },
  {
   "cell_type": "code",
   "execution_count": 18,
   "metadata": {},
   "outputs": [
    {
     "data": {
      "text/plain": [
       "[Head:10]->[11]->[9]->[8]->[Tail:7]"
      ]
     },
     "execution_count": 18,
     "metadata": {},
     "output_type": "execute_result"
    }
   ],
   "source": [
    "# reverse linked list https://media.geeksforgeeks.org/wp-content/cdn-uploads/RGIF2.gif\n",
    "\n",
    "def reverse_llist(llist):\n",
    "    prev = None\n",
    "    current = llist.head\n",
    "    while(current is not None):\n",
    "        next = current.next_node\n",
    "        current.next_node = prev\n",
    "        prev = current\n",
    "        current = next\n",
    "    llist.head = prev"
   ]
  }
 ],
 "metadata": {
  "interpreter": {
   "hash": "e7370f93d1d0cde622a1f8e1c04877d8463912d04d973331ad4851f04de6915a"
  },
  "kernelspec": {
   "display_name": "Python 3.9.7 64-bit",
   "language": "python",
   "name": "python3"
  },
  "language_info": {
   "codemirror_mode": {
    "name": "ipython",
    "version": 3
   },
   "file_extension": ".py",
   "mimetype": "text/x-python",
   "name": "python",
   "nbconvert_exporter": "python",
   "pygments_lexer": "ipython3",
   "version": "3.9.7"
  },
  "orig_nbformat": 4
 },
 "nbformat": 4,
 "nbformat_minor": 2
}

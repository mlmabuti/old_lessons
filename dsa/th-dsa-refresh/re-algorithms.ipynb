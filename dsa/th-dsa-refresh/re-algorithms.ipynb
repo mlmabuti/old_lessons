{
 "cells": [
  {
   "cell_type": "code",
   "execution_count": 33,
   "metadata": {},
   "outputs": [
    {
     "name": "stdout",
     "output_type": "stream",
     "text": [
      "found at 7\n"
     ]
    }
   ],
   "source": [
    "# algorithms must have clarity in statement, input, output.\n",
    "    # very specific order\n",
    "    # should produce a result \n",
    "    # should complete in a finite amount of time \n",
    "\n",
    "# algorithm correctness\n",
    "    # clear input and clear output\n",
    "    # must end \n",
    "\n",
    "#algorithm efficiency\n",
    "    # time complexity - less time used; efficient \n",
    "    # Big O, the magnitude of complexity\n",
    "    # O(1), constant time, unchanging input, address based lookup\n",
    "    # O(n) = Linear Runtime, linear search\n",
    "    # O(log n) = Logarithmic Runtime, binary search\n",
    "    # O(n^2) = Quadratic Runtime, elementary sorting\n",
    "    # O(n^3) = Cubic Runtime, 3D array traversal\n",
    "    # O(n log n) = Quasilinear Runtime, intermediate sorting\n",
    "    # O(n*k) = Polynomial Runtime; Quadratic/Cubic++\n",
    "    # O(n!) = Factorial/Combinatorial Runtime, traveling salesman\n",
    "\n",
    "    # space complexity - less memory used; efficient\n",
    "    # O(1), constant space, iterative binary search, because we operate inside the same list\n",
    "    # O(log n), logarithmic space, recursive binary search, we allocate n/2 space every lap \n",
    "\n",
    "    # tail optimization, tail recursion, tail call elimination = for space efficiency in other languages "
   ]
  },
  {
   "cell_type": "code",
   "execution_count": 34,
   "metadata": {},
   "outputs": [],
   "source": [
    "# O(n), Linear Search\n",
    "def linear_search(list, target):\n",
    "    for i in range(len(list)):\n",
    "        if list[i] == target:\n",
    "            return i \n",
    "    return None\n",
    "\n",
    "def verify(index):\n",
    "    if index is not None:\n",
    "        print(\"found at\", index)\n",
    "    else:\n",
    "        print(\"does not exist\")\n",
    "\n",
    "l = [1,2,3,4,5,6,7,8]\n",
    "\n",
    "verify(linear_search(l, 4))"
   ]
  },
  {
   "cell_type": "code",
   "execution_count": 35,
   "metadata": {},
   "outputs": [
    {
     "name": "stdout",
     "output_type": "stream",
     "text": [
      "found at 7\n"
     ]
    }
   ],
   "source": [
    "\n",
    "# O(log n), Binary Search \n",
    "def binary_search(list, target):\n",
    "    first = 0\n",
    "    last = len(list)-1 \n",
    "\n",
    "    while first <= last:\n",
    "        mid = first+last//2\n",
    "        \n",
    "        if list[mid] == target:\n",
    "            return mid \n",
    "        elif list[mid] < target:\n",
    "            first = mid+1\n",
    "        else:\n",
    "            last = mid-1\n",
    "    return None\n",
    "\n",
    "verify(binary_search(l, 8))"
   ]
  },
  {
   "cell_type": "code",
   "execution_count": 1,
   "metadata": {},
   "outputs": [
    {
     "name": "stdout",
     "output_type": "stream",
     "text": [
      "None\n"
     ]
    }
   ],
   "source": [
    "# O(n log n), Recursive Binary Search\n",
    "def recursive_binary_search(list, target):\n",
    "    \n",
    "    if len(list) == 0:\n",
    "        return False\n",
    "    else: \n",
    "        mid = len(list)//2\n",
    "\n",
    "        if list[mid] == target:\n",
    "            return True\n",
    "        else: \n",
    "            if list[mid] <= target:\n",
    "                recursive_binary_search(list[mid+1:], target)\n",
    "            else:\n",
    "                recursive_binary_search(list[:mid], target)\n",
    "\n",
    "def verify(result):\n",
    "    print(result)\n",
    "\n",
    "l = [1,2,3,4,5,6,7,8,9]\n",
    "verify(recursive_binary_search(l,10))"
   ]
  }
 ],
 "metadata": {
  "interpreter": {
   "hash": "e7370f93d1d0cde622a1f8e1c04877d8463912d04d973331ad4851f04de6915a"
  },
  "kernelspec": {
   "display_name": "Python 3.9.7 64-bit",
   "name": "python3"
  },
  "language_info": {
   "codemirror_mode": {
    "name": "ipython",
    "version": 3
   },
   "file_extension": ".py",
   "mimetype": "text/x-python",
   "name": "python",
   "nbconvert_exporter": "python",
   "pygments_lexer": "ipython3",
   "version": "3.9.7"
  },
  "orig_nbformat": 4
 },
 "nbformat": 4,
 "nbformat_minor": 2
}
